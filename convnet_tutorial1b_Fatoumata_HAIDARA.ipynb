{
  "cells": [
    {
      "cell_type": "markdown",
      "metadata": {
        "id": "view-in-github",
        "colab_type": "text"
      },
      "source": [
        "<a href=\"https://colab.research.google.com/github/fatimahaidara/Computer_Vision/blob/main/convnet_tutorial1b_Fatoumata_HAIDARA.ipynb\" target=\"_parent\"><img src=\"https://colab.research.google.com/assets/colab-badge.svg\" alt=\"Open In Colab\"/></a>"
      ]
    },
    {
      "cell_type": "code",
      "execution_count": null,
      "metadata": {
        "id": "hqnl0AKVXIA4"
      },
      "outputs": [],
      "source": [
        "import torch\n",
        "from torch import Tensor"
      ]
    },
    {
      "cell_type": "markdown",
      "metadata": {
        "id": "548mA8tLG3rT"
      },
      "source": [
        "# Tutorial 1b: Softmax Function"
      ]
    },
    {
      "cell_type": "markdown",
      "metadata": {
        "id": "g1DV-MS2bxYq"
      },
      "source": [
        "**Question:** To have the logistic regressor output probabilities, they need to be processed through a softmax layer. Implement a softmax layer yourself. What numerical issues may arise in this layer? How can you solve them? Use the testing code to confirm you implemented it correctly."
      ]
    },
    {
      "cell_type": "code",
      "execution_count": null,
      "metadata": {
        "id": "xYoHACO8G3rU",
        "colab": {
          "base_uri": "https://localhost:8080/"
        },
        "outputId": "31417222-158f-4d62-e2e5-a3a2c438fe01"
      },
      "outputs": [
        {
          "output_type": "execute_result",
          "data": {
            "text/plain": [
              "tensor([[100.2057, 100.6179, 100.5677, 100.9142, 100.6477, 100.8188, 100.0756,\n",
              "         100.5973, 100.6206, 100.8988, 100.8950, 100.6308, 100.6846, 100.8180,\n",
              "         100.0772, 100.0258, 100.8565, 100.6856, 100.2978, 100.4755]])"
            ]
          },
          "metadata": {},
          "execution_count": 2
        }
      ],
      "source": [
        "logits = torch.rand((1, 20)) + 100\n",
        "logits"
      ]
    },
    {
      "cell_type": "code",
      "execution_count": null,
      "metadata": {
        "id": "Dj4X2PnOfK9W"
      },
      "outputs": [],
      "source": [
        "def bad_softmax(x: Tensor) -> Tensor:\n",
        "    return torch.exp(x) / torch.sum(torch.exp(logits), axis=1)"
      ]
    },
    {
      "cell_type": "code",
      "source": [
        "bad_softmax(logits)"
      ],
      "metadata": {
        "colab": {
          "base_uri": "https://localhost:8080/"
        },
        "id": "HxhVPIDMY0_m",
        "outputId": "a71d118d-2b4d-4010-ef14-27fb011b30bb"
      },
      "execution_count": null,
      "outputs": [
        {
          "output_type": "execute_result",
          "data": {
            "text/plain": [
              "tensor([[nan, nan, nan, nan, nan, nan, nan, nan, nan, nan, nan, nan, nan, nan, nan, nan, nan, nan, nan, nan]])"
            ]
          },
          "metadata": {},
          "execution_count": 4
        }
      ]
    },
    {
      "cell_type": "code",
      "execution_count": null,
      "metadata": {
        "id": "UjpEAISWG3rU",
        "colab": {
          "base_uri": "https://localhost:8080/"
        },
        "outputId": "7fc7b680-09f5-449c-a79a-6191d996cd4c"
      },
      "outputs": [
        {
          "output_type": "execute_result",
          "data": {
            "text/plain": [
              "tensor(nan)"
            ]
          },
          "metadata": {},
          "execution_count": 5
        }
      ],
      "source": [
        "torch.sum(bad_softmax(logits))"
      ]
    },
    {
      "cell_type": "markdown",
      "source": [
        "##Solve the overflow problem,we can apply the "
      ],
      "metadata": {
        "id": "aPdJ_F9FcBug"
      }
    },
    {
      "cell_type": "code",
      "execution_count": null,
      "metadata": {
        "id": "ec3hvNXgG3rV"
      },
      "outputs": [],
      "source": [
        "def good_softmax(x: Tensor) -> Tensor:\n",
        "    ###########################################################################\n",
        "    # TODO: Implement a more stable way to compute softmax                    #\n",
        "    ###########################################################################\n",
        "\n",
        "    return torch.exp(x- torch.max(x)) / torch.sum(torch.exp((logits - torch.max(x))), axis=1)"
      ]
    },
    {
      "cell_type": "code",
      "execution_count": null,
      "metadata": {
        "id": "fE6CSKfPG3rV",
        "colab": {
          "base_uri": "https://localhost:8080/"
        },
        "outputId": "abb00d4e-70bb-4974-e34e-2f7df484c48c"
      },
      "outputs": [
        {
          "output_type": "execute_result",
          "data": {
            "text/plain": [
              "tensor([[0.0335, 0.0505, 0.0481, 0.0680, 0.0521, 0.0618, 0.0294, 0.0495, 0.0507,\n",
              "         0.0669, 0.0667, 0.0512, 0.0540, 0.0617, 0.0294, 0.0280, 0.0641, 0.0541,\n",
              "         0.0367, 0.0438]])"
            ]
          },
          "metadata": {},
          "execution_count": 7
        }
      ],
      "source": [
        "good_softmax(logits)"
      ]
    },
    {
      "cell_type": "code",
      "source": [
        "torch.sum(good_softmax(logits))"
      ],
      "metadata": {
        "colab": {
          "base_uri": "https://localhost:8080/"
        },
        "id": "C72InPaYXVe_",
        "outputId": "b48055a8-2d63-4a85-8ab7-3da50f9f3a06"
      },
      "execution_count": null,
      "outputs": [
        {
          "output_type": "execute_result",
          "data": {
            "text/plain": [
              "tensor(1.)"
            ]
          },
          "metadata": {},
          "execution_count": 8
        }
      ]
    },
    {
      "cell_type": "markdown",
      "metadata": {
        "id": "4C_J5S0RScXJ"
      },
      "source": [
        "Because of numerical issues like the one you just experiences, PyTorch code typically uses a `LogSoftmax` layer."
      ]
    },
    {
      "cell_type": "code",
      "source": [
        "def good_softmax(x: Tensor) -> Tensor:\n",
        "    ###########################################################################\n",
        "    # TODO: Implement a more stable way to compute softmax                    #\n",
        "    ###########################################################################\n",
        "    # log_soft = torch.nn.LogSoftmax(dim=1)\n",
        "    # log_out = log_soft(logits)\n",
        "    \n",
        "    return torch.log( torch.exp(x) / torch.sum(torch.exp(logits), axis=1))"
      ],
      "metadata": {
        "id": "6ITbrCY9Sf8s"
      },
      "execution_count": null,
      "outputs": []
    },
    {
      "cell_type": "code",
      "source": [
        "good_softmax(logits)"
      ],
      "metadata": {
        "colab": {
          "base_uri": "https://localhost:8080/"
        },
        "id": "0wzLsmqvZn9g",
        "outputId": "4080db1b-3944-47c3-b439-96379bdacc02"
      },
      "execution_count": null,
      "outputs": [
        {
          "output_type": "execute_result",
          "data": {
            "text/plain": [
              "tensor([[nan, nan, nan, nan, nan, nan, nan, nan, nan, nan, nan, nan, nan, nan, nan, nan, nan, nan, nan, nan]])"
            ]
          },
          "metadata": {},
          "execution_count": 10
        }
      ]
    },
    {
      "cell_type": "markdown",
      "metadata": {
        "id": "lgStX-ctjIms"
      },
      "source": [
        "**Question [optional]:** PyTorch automatically computes the backpropagation gradient of a module for you. However, it can be instructive to derive and implement your own backward function. Try and implement the backward function for your softmax module and confirm that it is correct."
      ]
    },
    {
      "cell_type": "code",
      "source": [
        "import numpy as np "
      ],
      "metadata": {
        "id": "FFSE7PLPd5QU"
      },
      "execution_count": null,
      "outputs": []
    },
    {
      "cell_type": "code",
      "source": [
        ""
      ],
      "metadata": {
        "id": "dtla3QZCjfqR"
      },
      "execution_count": null,
      "outputs": []
    }
  ],
  "metadata": {
    "accelerator": "GPU",
    "colab": {
      "collapsed_sections": [],
      "name": "convnet_tutorial1b_Fatoumata_HAIDARA.ipynb",
      "provenance": [],
      "include_colab_link": true
    },
    "kernelspec": {
      "display_name": "convnet_tutorials",
      "language": "python",
      "name": "convnet_tutorials"
    },
    "language_info": {
      "codemirror_mode": {
        "name": "ipython",
        "version": 3
      },
      "file_extension": ".py",
      "mimetype": "text/x-python",
      "name": "python",
      "nbconvert_exporter": "python",
      "pygments_lexer": "ipython3",
      "version": "3.9.10"
    }
  },
  "nbformat": 4,
  "nbformat_minor": 0
}