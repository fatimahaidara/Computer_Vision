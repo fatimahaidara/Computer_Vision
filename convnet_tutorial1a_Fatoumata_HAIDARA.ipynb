{
  "cells": [
    {
      "cell_type": "markdown",
      "metadata": {
        "id": "view-in-github",
        "colab_type": "text"
      },
      "source": [
        "<a href=\"https://colab.research.google.com/github/fatimahaidara/Computer_Vision/blob/main/convnet_tutorial1a_Fatoumata_HAIDARA.ipynb\" target=\"_parent\"><img src=\"https://colab.research.google.com/assets/colab-badge.svg\" alt=\"Open In Colab\"/></a>"
      ]
    },
    {
      "cell_type": "code",
      "execution_count": null,
      "metadata": {
        "id": "hqnl0AKVXIA4"
      },
      "outputs": [],
      "source": [
        "import matplotlib.pyplot\n",
        "import numpy.random\n",
        "import torch.utils.data\n",
        "import torchvision\n",
        "from torch import Tensor\n",
        "from torch.nn import Module\n",
        "from torch.utils.data import DataLoader\n",
        "from torchvision.datasets import MNIST\n",
        "from torchvision.transforms import ToTensor"
      ]
    },
    {
      "cell_type": "markdown",
      "metadata": {
        "id": "mCt-frpFH8oN"
      },
      "source": [
        "# Tutorial 1a. Logistic Regression\n",
        "\n",
        "In the first tutorial, we are going to train a logistic regressor on the MNIST dataset of handwritten digits. Next, we will turn this logistic regressor into a non-linear convolutional network."
      ]
    },
    {
      "cell_type": "code",
      "execution_count": null,
      "metadata": {
        "id": "dzfEE578uSNp"
      },
      "outputs": [],
      "source": [
        "if torch.cuda.is_available():\n",
        "    DEVICE = \"cuda:0\"\n",
        "else:\n",
        "    DEVICE = \"cpu\""
      ]
    },
    {
      "cell_type": "code",
      "source": [
        "DEVICE = \"cpu\""
      ],
      "metadata": {
        "id": "yjSiPtgTJUGt"
      },
      "execution_count": null,
      "outputs": []
    },
    {
      "cell_type": "markdown",
      "metadata": {
        "id": "9hyCQKE4LeKu"
      },
      "source": [
        "## Loading Datasets\n",
        "\n",
        "The following code will load the MNIST dataset. Run it and inspect some of the images and their labels to confirm they are correct."
      ]
    },
    {
      "cell_type": "code",
      "execution_count": null,
      "metadata": {
        "id": "GX_ky5qC--uv"
      },
      "outputs": [],
      "source": [
        "train_dataloader = DataLoader(\n",
        "    dataset=MNIST(\n",
        "        root=\"/tmp/mnist\",\n",
        "        train=True,\n",
        "        transform=ToTensor(),\n",
        "        download=True,\n",
        "    ),\n",
        "    batch_size=64,\n",
        "    shuffle=True,\n",
        ")\n",
        "\n",
        "test_dataloader = DataLoader(\n",
        "    dataset=MNIST(\n",
        "        root=\"/tmp/mnist\",\n",
        "        train=False,\n",
        "        transform=ToTensor(),\n",
        "        download=True,\n",
        "    ),\n",
        "    batch_size=64,\n",
        "    shuffle=False,\n",
        ")"
      ]
    },
    {
      "cell_type": "code",
      "execution_count": null,
      "metadata": {
        "id": "E8dy7-kBHwco",
        "colab": {
          "base_uri": "https://localhost:8080/",
          "height": 281
        },
        "outputId": "a5bcaec8-59a8-4e62-8283-7d1307d4b821"
      },
      "outputs": [
        {
          "output_type": "execute_result",
          "data": {
            "text/plain": [
              "(-0.5, 27.5, 27.5, -0.5)"
            ]
          },
          "metadata": {},
          "execution_count": 41
        },
        {
          "output_type": "display_data",
          "data": {
            "text/plain": [
              "<Figure size 432x288 with 1 Axes>"
            ],
            "image/png": "[encoded data removed]"
          },
          "metadata": {
            "needs_background": "light"
          }
        }
      ],
      "source": [
        "image, target = [*test_dataloader][0]\n",
        "\n",
        "random_index = numpy.random.randint(0, 64)\n",
        "\n",
        "image, target = image[random_index, 0], target[random_index]\n",
        "\n",
        "matplotlib.pyplot.imshow(\n",
        "    image, \n",
        "    cmap=\"gray\", \n",
        "    interpolation=\"nearest\",\n",
        ")\n",
        "\n",
        "matplotlib.pyplot.title(f\"target = {target}\")\n",
        "matplotlib.pyplot.axis(\"off\")"
      ]
    },
    {
      "cell_type": "code",
      "source": [
        "img,target = next(iter(test_dataloader))\n",
        "img.shape,target.shape"
      ],
      "metadata": {
        "colab": {
          "base_uri": "https://localhost:8080/"
        },
        "id": "6vpVbwZ87HRg",
        "outputId": "47dca3c3-7e7b-439c-9d03-4a1b5c205917"
      },
      "execution_count": null,
      "outputs": [
        {
          "output_type": "execute_result",
          "data": {
            "text/plain": [
              "(torch.Size([64, 1, 28, 28]), torch.Size([64]))"
            ]
          },
          "metadata": {},
          "execution_count": 42
        }
      ]
    },
    {
      "cell_type": "markdown",
      "metadata": {
        "id": "aKbXgidhWr6L"
      },
      "source": [
        "Next, we create a PyTorch dataloader for the MNIST dataset."
      ]
    },
    {
      "cell_type": "markdown",
      "metadata": {
        "id": "liekFZzvYX9E"
      },
      "source": [
        "Next, implement a logistic regression model in PyTorch. Note that a logistic regressor uses a linear transformation of the input.\n"
      ]
    },
    {
      "cell_type": "markdown",
      "metadata": {
        "id": "qkvv_KecLeKv"
      },
      "source": [
        "## Exercise 1. Logistic Regression Module"
      ]
    },
    {
      "cell_type": "code",
      "source": [
        "class LogisticRegression(Module):\n",
        "    def __init__(self, input_size: int, num_classes: int):\n",
        "        super().__init__()\n",
        "\n",
        "         ###########################################################################\n",
        "          # TODO: Instantiate the layer here.   \n",
        "        self.linear = torch.nn.Linear(input_size,num_classes)                                 \n",
        "                                    \n",
        "          ###########################################################################\n",
        " \n",
        "    def forward(self, x: Tensor) -> Tensor:\n",
        "        ###########################################################################\n",
        "        #  TODO: Apply the layer to the input.\n",
        "        output = self.linear(x) \n",
        "        return output                                \n",
        "        ###########################################################################\n",
        "#         pass"
      ],
      "metadata": {
        "id": "oIFGaF8HcZ0l"
      },
      "execution_count": null,
      "outputs": []
    },
    {
      "cell_type": "code",
      "execution_count": null,
      "metadata": {
        "id": "1vS65ImyLeKw"
      },
      "outputs": [],
      "source": [
        "module = LogisticRegression(28 * 28, 10)\n",
        "\n",
        "module = module.to(device=DEVICE)"
      ]
    },
    {
      "cell_type": "code",
      "source": [
        "module"
      ],
      "metadata": {
        "colab": {
          "base_uri": "https://localhost:8080/"
        },
        "id": "5ogQXvY2yzy7",
        "outputId": "eba78cfb-aed6-4ed8-97b8-328b0fc9a9db"
      },
      "execution_count": null,
      "outputs": [
        {
          "output_type": "execute_result",
          "data": {
            "text/plain": [
              "LogisticRegression(\n",
              "  (linear): Linear(in_features=784, out_features=10, bias=True)\n",
              ")"
            ]
          },
          "metadata": {},
          "execution_count": 45
        }
      ]
    },
    {
      "cell_type": "code",
      "execution_count": null,
      "metadata": {
        "id": "blhMGIiILeKw"
      },
      "outputs": [],
      "source": [
        "###########################################################################\n",
        "# TODO: Create criterion and optimizer here.                              #\n",
        "###########################################################################\n",
        "\n",
        "criterion = torch.nn.CrossEntropyLoss()\n",
        "\n",
        "optimizer = torch.optim.ASGD(module.parameters(), lr= 0.01)"
      ]
    },
    {
      "cell_type": "markdown",
      "metadata": {
        "id": "smNR2A4gLeKw"
      },
      "source": [
        "## Training"
      ]
    },
    {
      "cell_type": "markdown",
      "metadata": {
        "id": "Sa5iXxMSLeKw"
      },
      "source": [
        "We will use the following generic training loop for a PyTorch model."
      ]
    },
    {
      "cell_type": "code",
      "execution_count": null,
      "metadata": {
        "id": "qVyEKl3OZLJw",
        "colab": {
          "base_uri": "https://localhost:8080/"
        },
        "outputId": "d43519a7-eaaa-48a9-ada6-830e23482121"
      },
      "outputs": [
        {
          "output_type": "stream",
          "name": "stdout",
          "text": [
            "Train Epoch: 0 [0/60000 (0%)]\tLoss: 2.314686\n",
            "Train Epoch: 0 [32000/60000 (53%)]\tLoss: 0.911756\n",
            "Train Epoch: 1 [0/60000 (0%)]\tLoss: 0.652255\n",
            "Train Epoch: 1 [32000/60000 (53%)]\tLoss: 0.552518\n",
            "Train Epoch: 2 [0/60000 (0%)]\tLoss: 0.512215\n",
            "Train Epoch: 2 [32000/60000 (53%)]\tLoss: 0.464441\n",
            "Train Epoch: 3 [0/60000 (0%)]\tLoss: 0.446536\n",
            "Train Epoch: 3 [32000/60000 (53%)]\tLoss: 0.435898\n",
            "Train Epoch: 4 [0/60000 (0%)]\tLoss: 0.429252\n",
            "Train Epoch: 4 [32000/60000 (53%)]\tLoss: 0.403961\n",
            "Train Epoch: 5 [0/60000 (0%)]\tLoss: 0.413202\n",
            "Train Epoch: 5 [32000/60000 (53%)]\tLoss: 0.393189\n",
            "Train Epoch: 6 [0/60000 (0%)]\tLoss: 0.391093\n",
            "Train Epoch: 6 [32000/60000 (53%)]\tLoss: 0.381630\n",
            "Train Epoch: 7 [0/60000 (0%)]\tLoss: 0.367987\n",
            "Train Epoch: 7 [32000/60000 (53%)]\tLoss: 0.371205\n",
            "Train Epoch: 8 [0/60000 (0%)]\tLoss: 0.362573\n",
            "Train Epoch: 8 [32000/60000 (53%)]\tLoss: 0.357422\n",
            "Train Epoch: 9 [0/60000 (0%)]\tLoss: 0.360774\n",
            "Train Epoch: 9 [32000/60000 (53%)]\tLoss: 0.343809\n"
          ]
        }
      ],
      "source": [
        "# Train the model. If everything is correct, the loss should go below 0.45.\n",
        "\n",
        "EPOCHS = 10\n",
        "module.train()\n",
        "# Exponential moving average of the loss:\n",
        "ema = None\n",
        "\n",
        "for epoch in range(EPOCHS):\n",
        "    for batch_index, (train_images, train_targets) in enumerate(train_dataloader):\n",
        "        train_images = train_images.view(-1, 28 * 28).requires_grad_().to(device=DEVICE)\n",
        "\n",
        "        train_targets = train_targets.to(device=DEVICE)\n",
        "\n",
        "        # Clear gradients w.r.t. parameters\n",
        "        optimizer.zero_grad()\n",
        "\n",
        "        # Forward pass to get output/logits\n",
        "        outputs = module(train_images)\n",
        "\n",
        "        # Calculate Loss: softmax --> cross entropy loss\n",
        "        loss = criterion(outputs, train_targets)\n",
        "\n",
        "        # Getting gradients w.r.t. parameters\n",
        "        loss.backward()\n",
        "\n",
        "        # Updates parameters:\n",
        "        optimizer.step()\n",
        "\n",
        "        # NOTE: It is important to call .item() on the loss before summing.\n",
        "        if ema is None:\n",
        "            ema = loss.item()\n",
        "        else:\n",
        "            ema += (loss.item() - ema) * 0.01\n",
        "\n",
        "        if batch_index % 500 == 0:\n",
        "            print(\n",
        "                \"Train Epoch: {} [{}/{} ({:.0f}%)]\\tLoss: {:.6f}\".format(\n",
        "                    epoch,\n",
        "                    batch_index * len(train_images),\n",
        "                    len(train_dataloader.dataset),\n",
        "                    100.0 * batch_index / len(train_dataloader),\n",
        "                    ema,\n",
        "                ),\n",
        "            )"
      ]
    },
    {
      "cell_type": "markdown",
      "metadata": {
        "id": "oN8qTuGkZ-3X"
      },
      "source": [
        "**Question:** For the model you are currently using, is there any difference between using the model in `train` mode or using it in `eval` mode? \n",
        "\n",
        "Create an SGD optimizer and us it to train the logistic regressor on the MNIST training data for a few epochs. What loss function do you need to use?"
      ]
    },
    {
      "cell_type": "code",
      "source": [
        "module.train()"
      ],
      "metadata": {
        "colab": {
          "base_uri": "https://localhost:8080/"
        },
        "id": "fgZWQ0bTCA3A",
        "outputId": "85e29308-02ad-48d5-d128-e2acae25d64c"
      },
      "execution_count": null,
      "outputs": [
        {
          "output_type": "execute_result",
          "data": {
            "text/plain": [
              "LogisticRegression(\n",
              "  (linear): Linear(in_features=784, out_features=10, bias=True)\n",
              ")"
            ]
          },
          "metadata": {},
          "execution_count": 48
        }
      ]
    },
    {
      "cell_type": "code",
      "source": [
        "module.eval()"
      ],
      "metadata": {
        "colab": {
          "base_uri": "https://localhost:8080/"
        },
        "id": "Ktf9YrblCC-G",
        "outputId": "e74b1ce4-4a29-4123-ebf2-11136aa33596"
      },
      "execution_count": null,
      "outputs": [
        {
          "output_type": "execute_result",
          "data": {
            "text/plain": [
              "LogisticRegression(\n",
              "  (linear): Linear(in_features=784, out_features=10, bias=True)\n",
              ")"
            ]
          },
          "metadata": {},
          "execution_count": 49
        }
      ]
    },
    {
      "cell_type": "markdown",
      "source": [
        "### we can notice that we have no difference between the eval mode and the train mode as can be seen very clearly with the test above. There are no dropout layers so the train mode and the eval mode are the same and the results of their parameters are the same"
      ],
      "metadata": {
        "id": "c83Kvcgqyve8"
      }
    },
    {
      "cell_type": "markdown",
      "metadata": {
        "id": "x0QN7Mhiar7d"
      },
      "source": [
        "### Embeddings \n",
        "\n",
        "Visualize the weights of the trained model. What do you see? Why?"
      ]
    },
    {
      "cell_type": "code",
      "execution_count": null,
      "metadata": {
        "id": "H-6b2j3HLeKx"
      },
      "outputs": [],
      "source": [
        "assert module.linear.weight.shape == (10, 28 * 28)"
      ]
    },
    {
      "cell_type": "code",
      "execution_count": null,
      "metadata": {
        "id": "gxletH44a4MX",
        "colab": {
          "base_uri": "https://localhost:8080/",
          "height": 184
        },
        "outputId": "26804348-a59f-4c1c-fd79-14ec5fb3fa44"
      },
      "outputs": [
        {
          "output_type": "execute_result",
          "data": {
            "text/plain": [
              "(-0.5, 151.5, 61.5, -0.5)"
            ]
          },
          "metadata": {},
          "execution_count": 51
        },
        {
          "output_type": "display_data",
          "data": {
            "text/plain": [
              "<Figure size 432x288 with 1 Axes>"
            ],
            "image/png": "[encoded data removed]"
          },
          "metadata": {
            "needs_background": "light"
          }
        }
      ],
      "source": [
        "matplotlib.pyplot.imshow(\n",
        "    numpy.transpose(\n",
        "        torchvision.utils.make_grid(\n",
        "            module.linear.weight.view(10, 1, 28, 28),\n",
        "            normalize=True,\n",
        "            nrow=5,\n",
        "        ), \n",
        "        (1, 2, 0),\n",
        "    ), \n",
        "    interpolation=\"nearest\",\n",
        ")\n",
        "\n",
        "matplotlib.pyplot.grid(False)\n",
        "matplotlib.pyplot.gca().axis(\"off\")"
      ]
    },
    {
      "cell_type": "markdown",
      "metadata": {
        "id": "ekdHvItiLeKy"
      },
      "source": [
        "## Evaluation"
      ]
    },
    {
      "cell_type": "markdown",
      "metadata": {
        "id": "Lxf5NxQ6a5cT"
      },
      "source": [
        "Use the following function to measure the test accuracy of your trained model."
      ]
    },
    {
      "cell_type": "code",
      "execution_count": null,
      "metadata": {
        "id": "8UYWbqZYa9Qr",
        "colab": {
          "base_uri": "https://localhost:8080/"
        },
        "outputId": "3a0fce17-5423-4efa-d013-7649e12cb02b"
      },
      "outputs": [
        {
          "output_type": "stream",
          "name": "stdout",
          "text": [
            "The accuracy for the model is 0.909\n"
          ]
        }
      ],
      "source": [
        "correct_predictions = 0\n",
        "predictions = 0\n",
        "\n",
        "# Iterate through test dataset\n",
        "for test_images, test_targets in test_dataloader:\n",
        "    test_images = test_images.view(-1, 28 * 28).to(DEVICE)\n",
        "\n",
        "    # Forward pass only to get logits/output\n",
        "    outputs = module(test_images)\n",
        "\n",
        "    # Get predictions from the maximum value\n",
        "    _, predicted = torch.max(outputs.data, 1)\n",
        "\n",
        "    predictions += test_targets.size(0)\n",
        "\n",
        "    if torch.cuda.is_available():\n",
        "        correct_predictions += (predicted.cpu() == test_targets.cpu()).sum()\n",
        "    else:\n",
        "        correct_predictions += (predicted == test_targets).sum()\n",
        "\n",
        "print(f\"The accuracy for the model is {correct_predictions.item() / predictions}\")"
      ]
    }
  ],
  "metadata": {
    "accelerator": "GPU",
    "colab": {
      "collapsed_sections": [],
      "name": "convnet_tutorial1a_Fatoumata_HAIDARA.ipynb",
      "provenance": [],
      "include_colab_link": true
    },
    "kernelspec": {
      "display_name": "convnet_tutorials",
      "language": "python",
      "name": "convnet_tutorials"
    },
    "language_info": {
      "codemirror_mode": {
        "name": "ipython",
        "version": 3
      },
      "file_extension": ".py",
      "mimetype": "text/x-python",
      "name": "python",
      "nbconvert_exporter": "python",
      "pygments_lexer": "ipython3",
      "version": "3.9.10"
    }
  },
  "nbformat": 4,
  "nbformat_minor": 0
}