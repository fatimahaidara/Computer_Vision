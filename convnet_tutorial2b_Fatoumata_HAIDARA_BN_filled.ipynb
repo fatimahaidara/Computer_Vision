{
  "cells": [
    {
      "cell_type": "markdown",
      "metadata": {
        "id": "view-in-github",
        "colab_type": "text"
      },
      "source": [
        "<a href=\"https://colab.research.google.com/github/fatimahaidara/Computer_Vision/blob/main/convnet_tutorial2b_Fatoumata_HAIDARA_BN_filled.ipynb\" target=\"_parent\"><img src=\"https://colab.research.google.com/assets/colab-badge.svg\" alt=\"Open In Colab\"/></a>"
      ]
    },
    {
      "cell_type": "markdown",
      "metadata": {
        "id": "mCt-frpFH8oN"
      },
      "source": [
        "The tutorials use PyTorch. You will need to load the following dependencies."
      ]
    },
    {
      "cell_type": "code",
      "execution_count": null,
      "metadata": {
        "id": "CnASsVVwhXmg",
        "colab": {
          "base_uri": "https://localhost:8080/"
        },
        "outputId": "d4fac5c6-3e10-4c94-fd63-d77d063c1507"
      },
      "outputs": [
        {
          "output_type": "stream",
          "name": "stdout",
          "text": [
            "Requirement already satisfied: torch in /usr/local/lib/python3.7/dist-packages (1.10.0+cu111)\n",
            "Requirement already satisfied: torchvision in /usr/local/lib/python3.7/dist-packages (0.11.1+cu111)\n",
            "Requirement already satisfied: typing-extensions in /usr/local/lib/python3.7/dist-packages (from torch) (3.10.0.2)\n",
            "Requirement already satisfied: numpy in /usr/local/lib/python3.7/dist-packages (from torchvision) (1.21.5)\n",
            "Requirement already satisfied: pillow!=8.3.0,>=5.3.0 in /usr/local/lib/python3.7/dist-packages (from torchvision) (7.1.2)\n"
          ]
        }
      ],
      "source": [
        "# This specific version of torchvision is needed to download the mnist set\n",
        "!pip3 install torch torchvision"
      ]
    },
    {
      "cell_type": "code",
      "execution_count": null,
      "metadata": {
        "id": "hqnl0AKVXIA4"
      },
      "outputs": [],
      "source": [
        "import random\n",
        "\n",
        "import imageio\n",
        "import matplotlib.pyplot as plt\n",
        "import numpy as np\n",
        "import PIL\n",
        "import skimage.transform\n",
        "import torch\n",
        "import torch.nn as nn\n",
        "import torch.utils.data\n",
        "import torchvision\n",
        "from IPython import display\n",
        "from torchvision import datasets, transforms"
      ]
    },
    {
      "cell_type": "markdown",
      "metadata": {
        "id": "mF-MRYSYhXmi"
      },
      "source": [
        "# Tutorial 2b: Batch Normalization"
      ]
    },
    {
      "cell_type": "markdown",
      "metadata": {
        "id": "CKeYuM-cIXxs"
      },
      "source": [
        "The code below may be helpful in visualizing PyTorch tensors as images."
      ]
    },
    {
      "cell_type": "code",
      "execution_count": null,
      "metadata": {
        "id": "ZZd_rI8edYIB"
      },
      "outputs": [],
      "source": [
        "%matplotlib inline\n",
        "\n",
        "\n",
        "def show(img):\n",
        "    \"\"\"Show PyTorch tensor img as an image in matplotlib.\"\"\"\n",
        "    npimg = img.cpu().detach().numpy()\n",
        "    plt.imshow(np.transpose(npimg, (1, 2, 0)), interpolation=\"nearest\")\n",
        "    plt.grid(False)\n",
        "    plt.gca().axis(\"off\")\n",
        "\n",
        "\n",
        "def display_thumb(img):\n",
        "    display.display(transforms.Resize(128)(img))"
      ]
    },
    {
      "cell_type": "code",
      "execution_count": null,
      "metadata": {
        "id": "dzfEE578uSNp"
      },
      "outputs": [],
      "source": [
        "device = \"cuda\" if torch.cuda.is_available() else \"cpu\""
      ]
    },
    {
      "cell_type": "markdown",
      "metadata": {
        "id": "zgE0byUgKwM6"
      },
      "source": [
        "Load MNIST and define train/test functions as before. Please make sure you read the code carefully and understand what it is doing."
      ]
    },
    {
      "cell_type": "code",
      "execution_count": null,
      "metadata": {
        "id": "-NMUce6PKu-o",
        "colab": {
          "base_uri": "https://localhost:8080/",
          "height": 431,
          "referenced_widgets": [
            "f1b815e47f824a99a39fb7cc8623958a",
            "b4bb8351011a4b399a865b7821d7ae3d",
            "f7636221c06d46cb965068ba2ff23936",
            "90beb5e3daf54637ab9d2a1279007512",
            "daf784df7d6a42f68f58e4953cbe2474",
            "46a2cca9832f4c47991b053481cca4c6",
            "7b451f0ca808400fb29c7f1ba0e8f13f",
            "2dfc785bdfde40df9d80a8bd3fd6e142",
            "f8c4c137f54e40558ccd8b30491df899",
            "b602d93b2cac44869efc0a12abb9fc53",
            "ab4a6caf944841eabf1c13cf9786edab",
            "6f636a83162e4fe79a1e9db7aecfd4fb",
            "12da61620a9b42df82137b190d6cad51",
            "87ace2491416404980ee491df8bd47f7",
            "38288837e8fd4d3586caacfedc5f8755",
            "a6777f146bc74414b347859c4d2de860",
            "96ffdfea6f544bdf80fea47e18b49027",
            "9ef282a272194c71a6a00dce39f4d1b2",
            "9078f69110c54fe2bcd5d7bb26ec27d9",
            "084f0a24c9fb4f1fb9cacdb9b97c5148",
            "f6d157d5ebce491fb56c0cd1fe621bab",
            "cbca622548dd45a0982ac4b17c96d44e",
            "cd06400694a14d1a839892ebf1cf14ff",
            "18d082ed8995400687304d6322b6b232",
            "3ea0d82224a44e1c85a235c2221f9479",
            "2e6f044fe6f140499f59dbd352e2183d",
            "a8fb2cc1c7f34f389c0a98e321294382",
            "845612d150fb4fc4aca74d609137a5a8",
            "718cdb88cd164db28c1e87fd2cea2714",
            "81cb6b9896c1492f98e84437930dee9f",
            "f76bfe5a1a2944e489349fbfe534b767",
            "23f61e3453cf405e890b9842969ca2af",
            "3a78e42eb1db4efa8da34085d1196ceb",
            "9d8cfce0de0a41d889a75b9693c51e1b",
            "c6230978af7249bfb139da1062a90172",
            "bcc0e5fd1bd04ab3acdf1092cefb8718",
            "cfee3177ee1b4a77a029ff6ec543482c",
            "268687d5454246ccb324ec42d02d4fb2",
            "17e486601b0043a9bc698e2d2440f3c6",
            "836facc94f464c879c5ff0ad884dd8d6",
            "06124fb3e5a2458aa933240aef34ba53",
            "1a11706abfb043748779715b5672184c",
            "540ab23005f44a60bd7d8fd7144af6ec",
            "a2e94a56079d43a9b11865438cdd5f63"
          ]
        },
        "outputId": "93bc4641-b525-49ac-f4d7-eac38395e144"
      },
      "outputs": [
        {
          "output_type": "stream",
          "name": "stdout",
          "text": [
            "Downloading http://yann.lecun.com/exdb/mnist/train-images-idx3-ubyte.gz\n",
            "Downloading http://yann.lecun.com/exdb/mnist/train-images-idx3-ubyte.gz to /tmp/mnist/MNIST/raw/train-images-idx3-ubyte.gz\n"
          ]
        },
        {
          "output_type": "display_data",
          "data": {
            "text/plain": [
              "  0%|          | 0/9912422 [00:00<?, ?it/s]"
            ],
            "application/vnd.jupyter.widget-view+json": {
              "version_major": 2,
              "version_minor": 0,
              "model_id": "f1b815e47f824a99a39fb7cc8623958a"
            }
          },
          "metadata": {}
        },
        {
          "output_type": "stream",
          "name": "stdout",
          "text": [
            "Extracting /tmp/mnist/MNIST/raw/train-images-idx3-ubyte.gz to /tmp/mnist/MNIST/raw\n",
            "\n",
            "Downloading http://yann.lecun.com/exdb/mnist/train-labels-idx1-ubyte.gz\n",
            "Downloading http://yann.lecun.com/exdb/mnist/train-labels-idx1-ubyte.gz to /tmp/mnist/MNIST/raw/train-labels-idx1-ubyte.gz\n"
          ]
        },
        {
          "output_type": "display_data",
          "data": {
            "text/plain": [
              "  0%|          | 0/28881 [00:00<?, ?it/s]"
            ],
            "application/vnd.jupyter.widget-view+json": {
              "version_major": 2,
              "version_minor": 0,
              "model_id": "6f636a83162e4fe79a1e9db7aecfd4fb"
            }
          },
          "metadata": {}
        },
        {
          "output_type": "stream",
          "name": "stdout",
          "text": [
            "Extracting /tmp/mnist/MNIST/raw/train-labels-idx1-ubyte.gz to /tmp/mnist/MNIST/raw\n",
            "\n",
            "Downloading http://yann.lecun.com/exdb/mnist/t10k-images-idx3-ubyte.gz\n",
            "Downloading http://yann.lecun.com/exdb/mnist/t10k-images-idx3-ubyte.gz to /tmp/mnist/MNIST/raw/t10k-images-idx3-ubyte.gz\n"
          ]
        },
        {
          "output_type": "display_data",
          "data": {
            "text/plain": [
              "  0%|          | 0/1648877 [00:00<?, ?it/s]"
            ],
            "application/vnd.jupyter.widget-view+json": {
              "version_major": 2,
              "version_minor": 0,
              "model_id": "cd06400694a14d1a839892ebf1cf14ff"
            }
          },
          "metadata": {}
        },
        {
          "output_type": "stream",
          "name": "stdout",
          "text": [
            "Extracting /tmp/mnist/MNIST/raw/t10k-images-idx3-ubyte.gz to /tmp/mnist/MNIST/raw\n",
            "\n",
            "Downloading http://yann.lecun.com/exdb/mnist/t10k-labels-idx1-ubyte.gz\n",
            "Downloading http://yann.lecun.com/exdb/mnist/t10k-labels-idx1-ubyte.gz to /tmp/mnist/MNIST/raw/t10k-labels-idx1-ubyte.gz\n"
          ]
        },
        {
          "output_type": "display_data",
          "data": {
            "text/plain": [
              "  0%|          | 0/4542 [00:00<?, ?it/s]"
            ],
            "application/vnd.jupyter.widget-view+json": {
              "version_major": 2,
              "version_minor": 0,
              "model_id": "9d8cfce0de0a41d889a75b9693c51e1b"
            }
          },
          "metadata": {}
        },
        {
          "output_type": "stream",
          "name": "stdout",
          "text": [
            "Extracting /tmp/mnist/MNIST/raw/t10k-labels-idx1-ubyte.gz to /tmp/mnist/MNIST/raw\n",
            "\n"
          ]
        }
      ],
      "source": [
        "# Load the training and test dataset.\n",
        "mnist_train = datasets.MNIST(\n",
        "    \"/tmp/mnist\", train=True, download=True, transform=transforms.ToTensor()\n",
        ")\n",
        "mnist_test = datasets.MNIST(\n",
        "    \"/tmp/mnist\", train=False, download=True, transform=transforms.ToTensor()\n",
        ")\n",
        "\n",
        "# Size of the batches the data loader will produce.\n",
        "batch_size = 64\n",
        "\n",
        "# This creates the dataloaders.\n",
        "train_loader = torch.utils.data.DataLoader(\n",
        "    mnist_train, batch_size=batch_size, shuffle=True\n",
        ")\n",
        "test_loader = torch.utils.data.DataLoader(\n",
        "    mnist_test, batch_size=batch_size, shuffle=False\n",
        ")"
      ]
    },
    {
      "cell_type": "code",
      "execution_count": null,
      "metadata": {
        "id": "TgAJ94UgK1VU"
      },
      "outputs": [],
      "source": [
        "\n",
        "def train(model, criterion, data_loader, optimizer, num_epochs):\n",
        "    \"\"\"Simple training loop for a PyTorch model.\"\"\"\n",
        "\n",
        "    # Make sure model is in training mode.\n",
        "    model.train()\n",
        "\n",
        "    # Move model to the device (CPU or GPU).\n",
        "    model.to(device)\n",
        "\n",
        "    # Exponential moving average of the loss.\n",
        "    ema_loss = None\n",
        "\n",
        "    # Loop over epochs.\n",
        "    for epoch in range(num_epochs):\n",
        "\n",
        "        # Loop over data.\n",
        "        for batch_idx, (data, target) in enumerate(data_loader):\n",
        "\n",
        "            # Forward pass.\n",
        "            output = model(data.to(device))\n",
        "            loss = criterion(output.to(device), target.to(device))\n",
        "\n",
        "            # Backward pass.\n",
        "            optimizer.zero_grad()\n",
        "            loss.backward()\n",
        "            optimizer.step()\n",
        "\n",
        "            # NOTE: It is important to call .item() on the loss before summing.\n",
        "            if ema_loss is None:\n",
        "                ema_loss = loss.item()\n",
        "            else:\n",
        "                ema_loss += (loss.item() - ema_loss) * 0.01\n",
        "\n",
        "        # Print out progress the end of epoch.\n",
        "        print(\n",
        "            \"Train Epoch: {} \\tLoss: {:.6f}\".format(epoch, ema_loss),\n",
        "        )\n",
        "\n",
        "\n",
        "def test(model, data_loader):\n",
        "    \"\"\"Measures the accuracy of a model on a data set.\"\"\"\n",
        "    # Make sure the model is in evaluation mode.\n",
        "    model.eval()\n",
        "    correct = 0\n",
        "\n",
        "    # We do not need to maintain intermediate activations while testing.\n",
        "    with torch.no_grad():\n",
        "\n",
        "        # Loop over test data.\n",
        "        for data, target in data_loader:\n",
        "\n",
        "            # Forward pass.\n",
        "            output = model(data.to(device))\n",
        "\n",
        "            # Get the label corresponding to the highest predicted probability.\n",
        "            pred = output.argmax(dim=1, keepdim=True)\n",
        "\n",
        "            # Count number of correct predictions.\n",
        "            correct += pred.cpu().eq(target.view_as(pred)).sum().item()\n",
        "\n",
        "    # Print test accuracy.\n",
        "    percent = 100.0 * correct / len(data_loader.dataset)\n",
        "    print(f\"Accuracy: {correct} / {len(data_loader.dataset)} ({percent:.0f}%)\")\n",
        "    return percent"
      ]
    },
    {
      "cell_type": "markdown",
      "metadata": {
        "id": "WDEsHihohXml"
      },
      "source": [
        "In the last tutorial, you implemented a naive convolution. In this section you will implement your own version of forward pass of nn.Conv2d without using any of PyTorch's (or numpy's) pre-defined convolutional functions."
      ]
    },
    {
      "cell_type": "code",
      "execution_count": null,
      "metadata": {
        "id": "4FsBADLEhXml"
      },
      "outputs": [],
      "source": [
        "def conv_forward_naive(x, w, b, conv_param):\n",
        "    \"\"\"\n",
        "    A naive Python implementation of a convolutional layer.\n",
        "    The input consists of N data points, each with C channels, height H and\n",
        "    width W. We convolve each input with F different filters, where each filter\n",
        "    spans all C channels and has height HH and width WW.\n",
        "    Input:\n",
        "    - x: Input data of shape (N, C, H, W)\n",
        "    - w: Filter weights of shape (F, C, HH, WW)\n",
        "    - b: Biases, of shape (F,)\n",
        "    - conv_param: A dictionary with the following keys:\n",
        "      - 'stride': The number of pixels between adjacent receptive fields in the\n",
        "        horizontal and vertical directions.\n",
        "      - 'pad': The number of pixels that will be used to zero-pad the input.\n",
        "\n",
        "    During padding, 'pad' zeros should be placed symmetrically (i.e., equally on both sides)\n",
        "    along the height and width axes of the input. Be careful not to modfiy the original\n",
        "    input x directly.\n",
        "    Returns an array.\n",
        "    - out: Output data, of shape (N, F, H', W') where H' and W' are given by\n",
        "      H' = 1 + (H + 2 * pad - HH) / stride\n",
        "      W' = 1 + (W + 2 * pad - WW) / stride\n",
        "    \"\"\"\n",
        "    out = None\n",
        "\n",
        "    N, C, H, W = x.shape\n",
        "    num_filters, _, filter_height, filter_width = w.shape\n",
        "    stride, pad = conv_param[\"stride\"], conv_param[\"pad\"]\n",
        "\n",
        "   # output_size\n",
        "    H1 = 1 + (H + 2 * pad - filter_height) // stride\n",
        "    W1 = 1 + (W + 2 * pad - filter_width) // stride\n",
        "    # output\n",
        "    output=torch.zeros((N,num_filters,H1,W1))\n",
        "\n",
        "    # Check dimensions.\n",
        "    assert (W + 2 * pad - filter_width) % stride == 0, \"width does not work\"\n",
        "    assert (H + 2 * pad - filter_height) % stride == 0, \"height does not work\"\n",
        "\n",
        "    ###########################################################################\n",
        "    # TODO: Implement the forward pass of a convolutional layer without using #\n",
        "    #       nn.Conv2D or other implementations of convolutions. Instead, use  #\n",
        "    #       standard for- and while-loops to iterate over the tensors.        #\n",
        "    #                                                                         #\n",
        "    # Hint: you can use the function torch.nn.functional.pad for padding.     #\n",
        "    ###########################################################################\n",
        "\n",
        "    x=torch.nn.functional.pad(x,(pad,pad,pad,pad))\n",
        "    for a in range(N):\n",
        "      x_=x[a,:,:,:]\n",
        "      for l in range(num_filters):\n",
        "        for i in range(H1):\n",
        "          for j in range(W1):\n",
        "            output[a,l,i,j]=torch.sum(x_[:,i*stride:i*stride+filter_height, j*stride:j*stride+filter_width]*w[l])+b[l]\n",
        "    return output"
      ]
    },
    {
      "cell_type": "markdown",
      "metadata": {
        "id": "Zkjmj8k6hXmm"
      },
      "source": [
        "You can test your implementation by running the following testing code:"
      ]
    },
    {
      "cell_type": "code",
      "execution_count": null,
      "metadata": {
        "id": "Mccb8RSyhXmm",
        "colab": {
          "base_uri": "https://localhost:8080/"
        },
        "outputId": "c9421330-06ec-4f16-f0be-274519ab3bdd"
      },
      "outputs": [
        {
          "output_type": "stream",
          "name": "stdout",
          "text": [
            "Testing conv_forward_naive\n",
            "difference:  tensor(2.8497e-08)\n",
            "Nice work! Your implementation of a convolution layer works correctly.\n"
          ]
        }
      ],
      "source": [
        "# Make convolution module.\n",
        "w_shape = (3, 3, 4, 4)\n",
        "w = torch.linspace(-0.2, 0.3, steps=torch.prod(torch.tensor(w_shape))).reshape(w_shape)\n",
        "b = torch.linspace(-0.1, 0.2, steps=3)\n",
        "\n",
        "# Compute output of module and compare against reference values.\n",
        "x_shape = (2, 3, 4, 4)\n",
        "x = torch.linspace(-0.1, 0.5, steps=torch.prod(torch.tensor(x_shape))).reshape(x_shape)\n",
        "out = conv_forward_naive(x, w, b, {\"stride\": 2, \"pad\": 1})\n",
        "\n",
        "correct_out = torch.tensor(\n",
        "    [\n",
        "        [\n",
        "            [[-0.08759809, -0.10987781], [-0.18387192, -0.2109216]],\n",
        "            [[0.21027089, 0.21661097], [0.22847626, 0.23004637]],\n",
        "            [[0.50813986, 0.54309974], [0.64082444, 0.67101435]],\n",
        "        ],\n",
        "        [\n",
        "            [[-0.98053589, -1.03143541], [-1.19128892, -1.24695841]],\n",
        "            [[0.69108355, 0.66880383], [0.59480972, 0.56776003]],\n",
        "            [[2.36270298, 2.36904306], [2.38090835, 2.38247847]],\n",
        "        ],\n",
        "    ]\n",
        ")\n",
        "\n",
        "# Compare your output to ours; difference should be around e-8\n",
        "print(\"Testing conv_forward_naive\")\n",
        "rel_error = ((out - correct_out) / (out + correct_out + 1e-6)).mean()\n",
        "print(\"difference: \", rel_error)\n",
        "if abs(rel_error) < 1e-6:\n",
        "    print(\"Nice work! Your implementation of a convolution layer works correctly.\")\n",
        "else:\n",
        "    print(\n",
        "        \"Something is wrong. The output was expected to be {} but it was {}\".format(\n",
        "            correct_out, out\n",
        "        )\n",
        "    )"
      ]
    },
    {
      "cell_type": "markdown",
      "metadata": {
        "id": "GjTq5-k_q8s_"
      },
      "source": [
        "\n",
        "We will now replace the logistic regressor from the last tutorial by a small convolutional network with two convolutional layers and a linear layer, and ReLU activations in between the layers. Implement the model and use the same functions as before to train and test the convolutional network."
      ]
    },
    {
      "cell_type": "code",
      "execution_count": null,
      "metadata": {
        "id": "5t4hWoUYpp05",
        "colab": {
          "base_uri": "https://localhost:8080/"
        },
        "outputId": "ab199ed7-fa8f-43f1-e997-f3182334474f"
      },
      "outputs": [
        {
          "output_type": "stream",
          "name": "stdout",
          "text": [
            "Train Epoch: 0 \tLoss: 0.338365\n",
            "Train Epoch: 1 \tLoss: 0.187637\n",
            "Train Epoch: 2 \tLoss: 0.121034\n",
            "Train Epoch: 3 \tLoss: 0.107026\n",
            "Train Epoch: 4 \tLoss: 0.088276\n",
            "Accuracy: 9767 / 10000 (98%)\n"
          ]
        },
        {
          "output_type": "execute_result",
          "data": {
            "text/plain": [
              "97.67"
            ]
          },
          "metadata": {},
          "execution_count": 10
        }
      ],
      "source": [
        "class ConvolutionalNetwork(nn.Module):\n",
        "    \"\"\"Simple convolutional network.\"\"\"\n",
        "\n",
        "    def __init__(self, image_side_size, num_classes, in_channels=1):\n",
        "        super(ConvolutionalNetwork, self).__init__()\n",
        "\n",
        "        num_channels=8\n",
        "\n",
        "        # Fill these in:\n",
        "        ##########################################################################\n",
        "        # TODO: Implement a convulutional and a linear part.                     #\n",
        "        # Hint: see forward() to understand how they should work together.       #\n",
        "        ##########################################################################\n",
        "        self.conv_network = nn.Sequential(\n",
        "            nn.Conv2d(1, num_channels, kernel_size=5),\n",
        "            nn.ReLU(inplace=True),\n",
        "            nn.Conv2d(num_channels, num_channels, kernel_size=5),\n",
        "            nn.ReLU(inplace=True),\n",
        "            )\n",
        "        self.linear = nn.Linear(num_channels*20**2,num_classes)\n",
        "\n",
        "\n",
        "    def forward(self, x):\n",
        "        x = self.conv_network(x)\n",
        "        x = self.linear(x.view(x.size(0), -1))\n",
        "        return x\n",
        "\n",
        "\n",
        "# Create and train convolutional network.\n",
        "# The accuracy should be around 96%.\n",
        "conv_model = ConvolutionalNetwork(28, 10)\n",
        "###########################################################################\n",
        "# TODO: Create criterion and optimize here.                               #\n",
        "###########################################################################\n",
        "criterion = nn.CrossEntropyLoss()\n",
        "optimizer = torch.optim.SGD(conv_model.parameters(),lr=0.01)\n",
        "\n",
        "train(conv_model, criterion, train_loader, optimizer, num_epochs=5)\n",
        "test(conv_model, test_loader)"
      ]
    },
    {
      "cell_type": "markdown",
      "metadata": {
        "id": "3YpTh2lwhXmn"
      },
      "source": [
        "Inspect the filters in the first layer of the trained convolutional network. What do they look like? Why?"
      ]
    },
    {
      "cell_type": "code",
      "execution_count": null,
      "metadata": {
        "id": "LuSuQHT6bNdU",
        "colab": {
          "base_uri": "https://localhost:8080/",
          "height": 83
        },
        "outputId": "1302b8ed-6520-437d-e368-bf60f354c10f"
      },
      "outputs": [
        {
          "output_type": "display_data",
          "data": {
            "text/plain": [
              "<Figure size 432x288 with 1 Axes>"
            ],
            "image/png": "[encoded data removed]"
          },
          "metadata": {
            "needs_background": "light"
          }
        }
      ],
      "source": [
        "first_conv = list(conv_model.conv_network.children())[0]\n",
        "show(\n",
        "    torchvision.utils.make_grid(\n",
        "        first_conv.weight,\n",
        "        normalize=True,\n",
        "        nrow=8,\n",
        "    )\n",
        ")"
      ]
    },
    {
      "cell_type": "markdown",
      "metadata": {
        "id": "71LRkRxndajG"
      },
      "source": [
        "## Batch Normalization\n"
      ]
    },
    {
      "cell_type": "markdown",
      "metadata": {
        "id": "oN8qTuGkZ-3X"
      },
      "source": [
        "Batch normalization is tenchique that allows to make training more stable fast [1].\n",
        "\n",
        "Below we define a convolutional network with 3 layers. Before each ReLU layer we insert a BatchNorm2d layer if `use_batch_norm` is `True`. This improves the convergence as guarantees as values have the same variance asn zero-means. As a result on average exactly half of the values will be nulled by ReLU.\n",
        "\n",
        "[1] Ioffe, Sergey, and Christian Szegedy. \"Batch normalization: Accelerating deep network training by reducing internal covariate shift.\" arXiv preprint arXiv:1502.03167 (2015).\n",
        "\n",
        "**Task**. Go ahead and add batch normalization layer."
      ]
    },
    {
      "cell_type": "code",
      "execution_count": null,
      "metadata": {
        "id": "vg4CO_WDeLqh"
      },
      "outputs": [],
      "source": [
        "class ConvolutionalNetworkWithBN(nn.Module):\n",
        "    \"\"\"Convolutional network uses batch normalization when `use_batch_norm` is `True`.\"\"\"\n",
        "\n",
        "    def __init__(self, use_batch_norm=False):\n",
        "        super().__init__()\n",
        "        num_channels = 8\n",
        "        self.use_batch_norm = use_batch_norm\n",
        "        self.conv = nn.Sequential(\n",
        "            nn.Conv2d(1, num_channels, kernel_size=5),\n",
        "            nn.MaxPool2d(2),\n",
        "            self.maybe_batch_norm_layer(num_channels),\n",
        "            nn.ReLU(inplace=True),\n",
        "            nn.Conv2d(num_channels, num_channels, kernel_size=3, padding=1),\n",
        "            self.maybe_batch_norm_layer(num_channels),\n",
        "            nn.ReLU(inplace=True),\n",
        "            nn.Conv2d(num_channels, num_channels, kernel_size=5),\n",
        "            nn.MaxPool2d(2),\n",
        "            self.maybe_batch_norm_layer(num_channels),\n",
        "            nn.ReLU(inplace=True),\n",
        "        )\n",
        "        self.linear = nn.Linear(num_channels * 4**2, 10)\n",
        "\n",
        "    def maybe_batch_norm_layer(self, num_channels):\n",
        "        if self.use_batch_norm:\n",
        "            ###########################################################################\n",
        "            # TODO: Add batch norm layer                                              #\n",
        "            # Put your code between START_GRADING and END_GRADING.                    #\n",
        "            ###########################################################################\n",
        "            return nn.BatchNorm2d(num_channels)\n",
        "        else:\n",
        "            # This layer will copy its input to the output.\n",
        "            return nn.Identity()\n",
        "\n",
        "    def forward(self, x):\n",
        "        x = self.conv(x)\n",
        "        x = self.linear(x.view(x.size(0), -1))\n",
        "        return x"
      ]
    },
    {
      "cell_type": "markdown",
      "metadata": {
        "id": "qbtzzBhiJ4PW"
      },
      "source": [
        "To see how batch normalization improves stability, let's try to train the neural network with different learning rates and check the accuracies."
      ]
    },
    {
      "cell_type": "code",
      "execution_count": null,
      "metadata": {
        "id": "YXuSliJF3r7u",
        "colab": {
          "base_uri": "https://localhost:8080/"
        },
        "outputId": "c12e2d17-65c5-4f34-9cd1-6bfd1f9370d4"
      },
      "outputs": [
        {
          "output_type": "stream",
          "name": "stdout",
          "text": [
            "Train Epoch: 0 \tLoss: 2.302612\n",
            "Accuracy: 1135 / 10000 (11%)\n",
            "##### lr=0.3 leads to BAD accuracy (no batch normalization)\n",
            "Train Epoch: 0 \tLoss: 0.131269\n",
            "Accuracy: 9557 / 10000 (96%)\n",
            "##### lr=0.1 leads to DECENT accuracy (no batch normalization)\n",
            "Train Epoch: 0 \tLoss: 0.298770\n",
            "Accuracy: 9252 / 10000 (93%)\n",
            "##### lr=0.03 leads to DECENT accuracy (no batch normalization)\n",
            "Train Epoch: 0 \tLoss: 0.376097\n",
            "Accuracy: 8897 / 10000 (89%)\n",
            "##### lr=0.01 leads to BAD accuracy (no batch normalization)\n",
            "Train Epoch: 0 \tLoss: 2.280829\n",
            "Accuracy: 1010 / 10000 (10%)\n",
            "##### lr=0.003 leads to BAD accuracy (no batch normalization)\n"
          ]
        }
      ],
      "source": [
        "for lr in 0.3, 0.1, 0.03, 0.01, 0.003:\n",
        "    conv_model = ConvolutionalNetworkWithBN()\n",
        "    optimizer = torch.optim.SGD(conv_model.parameters(), lr=lr)\n",
        "    train(conv_model, nn.CrossEntropyLoss(), train_loader, optimizer, num_epochs=1)\n",
        "    accuracy = test(conv_model, test_loader)\n",
        "    if accuracy > 96:\n",
        "        print(f\"##### lr={lr} leads to GOOD accuracy (no batch normalization)\")\n",
        "    elif accuracy > 90:\n",
        "        print(f\"##### lr={lr} leads to DECENT accuracy (no batch normalization)\")\n",
        "    else:\n",
        "        print(f\"##### lr={lr} leads to BAD accuracy (no batch normalization)\")"
      ]
    },
    {
      "cell_type": "markdown",
      "metadata": {
        "id": "WrJBxM03KOZ-"
      },
      "source": [
        "As you can see learning rate should be in a narrow region to get GOOD result.\n",
        "\n",
        "Now let's try to run the same batch normalization. Before running the code you should finish TODO in ConvolutionalNetworkWithBN code. If your code is correct, then accuracies will improve."
      ]
    },
    {
      "cell_type": "code",
      "execution_count": null,
      "metadata": {
        "id": "6u2JJdnX5VKF",
        "colab": {
          "base_uri": "https://localhost:8080/"
        },
        "outputId": "8febb630-e779-40c3-d724-3c98a0c7a881"
      },
      "outputs": [
        {
          "output_type": "stream",
          "name": "stdout",
          "text": [
            "Train Epoch: 0 \tLoss: 0.055841\n",
            "Accuracy: 9827 / 10000 (98%)\n",
            "##### lr=0.3 leads to GOOD accuracy (with batch normalization)\n",
            "Train Epoch: 0 \tLoss: 0.070232\n",
            "Accuracy: 9827 / 10000 (98%)\n",
            "##### lr=0.1 leads to GOOD accuracy (with batch normalization)\n",
            "Train Epoch: 0 \tLoss: 0.096443\n",
            "Accuracy: 9727 / 10000 (97%)\n",
            "##### lr=0.03 leads to GOOD accuracy (with batch normalization)\n",
            "Train Epoch: 0 \tLoss: 0.178962\n",
            "Accuracy: 9663 / 10000 (97%)\n",
            "##### lr=0.01 leads to GOOD accuracy (with batch normalization)\n",
            "Train Epoch: 0 \tLoss: 0.495122\n",
            "Accuracy: 9390 / 10000 (94%)\n",
            "##### lr=0.003 leads to DECENT accuracy (with batch normalization)\n"
          ]
        }
      ],
      "source": [
        "for lr in 0.3, 0.1, 0.03, 0.01, 0.003:\n",
        "    conv_model = ConvolutionalNetworkWithBN(use_batch_norm=True)\n",
        "    optimizer = torch.optim.SGD(conv_model.parameters(), lr=lr)\n",
        "    train(conv_model, nn.CrossEntropyLoss(), train_loader, optimizer, num_epochs=1)\n",
        "    accuracy = test(conv_model, test_loader)\n",
        "    if accuracy > 96:\n",
        "        print(f\"##### lr={lr} leads to GOOD accuracy (with batch normalization)\")\n",
        "    elif accuracy > 90:\n",
        "        print(f\"##### lr={lr} leads to DECENT accuracy (with batch normalization)\")\n",
        "    else:\n",
        "        print(f\"##### lr={lr} leads to BAD accuracy (with batch normalization)\")\n",
        "    if lr >= 0.01:\n",
        "        assert (\n",
        "            accuracy > 90\n",
        "        ), \"Accuracy is too low. Check that your BatchNorm implementation is correct!\""
      ]
    },
    {
      "cell_type": "markdown",
      "metadata": {
        "id": "gdgr7eNFTTAn"
      },
      "source": [
        "**Question [optional]:** Replace the batch normalization layer in your network by your own implementation. Confirm your batch-normalization implementation is correct."
      ]
    },
    {
      "cell_type": "code",
      "execution_count": null,
      "metadata": {
        "id": "MAuhUMtjTj3f"
      },
      "outputs": [],
      "source": [
        "class MyBatchNorm2d(nn.Module):\n",
        "    \"\"\"Simple implementation of batch normalization.\"\"\"\n",
        "\n",
        "    def __init__(self, num_channels, momentum=0.1, epsilon=1e-5):\n",
        "        super(MyBatchNorm2d, self).__init__()\n",
        "\n",
        "        # Initialize bias and gain parameters.\n",
        "        self.gamma = nn.Parameter(torch.ones(1, num_channels, 1, 1))\n",
        "        self.beta = nn.Parameter(torch.zeros(1, num_channels, 1, 1))\n",
        "\n",
        "        # Initialize moving averages.\n",
        "        self.epsilon = epsilon\n",
        "        self.momentum = momentum\n",
        "        self.register_buffer(\"running_mean\", torch.zeros((1, num_channels, 1, 1)))\n",
        "        self.register_buffer(\"running_var\", torch.ones((1, num_channels, 1, 1)))\n",
        "\n",
        "    def forward(self, x):\n",
        "        # Check that input is of correct size.\n",
        "        assert x.dim() == 4, \"input should be NCHW\"\n",
        "        assert x.size(1) == self.gamma.numel()\n",
        "\n",
        "        ########################################################################\n",
        "        # TODO: Add batch norm layer implementation.                           #\n",
        "        # You code should:                                                     # x(n,c, h,w)\n",
        "        #   * Compute mean and var.                                            #\n",
        "        #   * Update running_mean and running_var.                             #\n",
        "        #   * Apply mean - variance normalization to x.                        #\n",
        "        # Put your code between START_GRADING and END_GRADING.                 #\n",
        "        ########################################################################\n",
        "\n",
        "        if not mode:\n",
        "          x_hat= (x-self.running_mean)/torch.sqrt(self.running_var+ self.epsilon)\n",
        "        else:\n",
        "\n",
        "          mean=x.mean(dim=(0,2,3),keepdim=True)\n",
        "          var=torch.var(x,dim=(0,2,3),keepdim=True) \n",
        "\n",
        "          x_hat= (x-mean)/(torch.sqrt(var+self.epsilon))\n",
        "\n",
        "          self.running_mean= (1-self.momentum)*self.running_mean + mean*self.momentum\n",
        "          self.running_var= (1-self.momentum)*self.running_var + var*self.momentum\n",
        "\n",
        "        y_hat=self.gamma*x_hat + self.beta #   \n",
        "\n",
        "        return y_hat"
      ]
    },
    {
      "cell_type": "code",
      "execution_count": null,
      "metadata": {
        "id": "Yev37BQShXmq",
        "colab": {
          "base_uri": "https://localhost:8080/"
        },
        "outputId": "bba0dbc5-ee48-448b-d64b-a5f23e6871ff"
      },
      "outputs": [
        {
          "output_type": "stream",
          "name": "stdout",
          "text": [
            "All OK!\n"
          ]
        }
      ],
      "source": [
        "# Use this code to test if your implementation is correct.\n",
        "batch_size, num_channels, im_size = 32, 8, 6\n",
        "batchnorm1 = nn.BatchNorm2d(num_channels)\n",
        "batchnorm2 = MyBatchNorm2d(num_channels)\n",
        "for key, param in batchnorm1.named_parameters():\n",
        "    if key == \"weight\":\n",
        "        param.data.fill_(1.0)  # undo random initialization in nn.BatchNorm2d\n",
        "for mode in [True, False]:  # test in training and evaluation mode\n",
        "    batchnorm1.train(mode=mode)\n",
        "    batchnorm2.train(mode=mode)\n",
        "    for _ in range(5):\n",
        "        x = torch.randn(batch_size, num_channels, im_size, im_size) + 10.0\n",
        "        out1 = batchnorm1(x)\n",
        "        out2 = batchnorm2(x)\n",
        "        assert (\n",
        "            batchnorm1.running_mean - batchnorm2.running_mean.squeeze()\n",
        "        ).abs().max() < 1e-5, \"running mean is incorrect (%s mode)\" % (\n",
        "            \"train\" if mode else \"eval\"\n",
        "        )\n",
        "        assert (\n",
        "            batchnorm1.running_var - batchnorm2.running_var.squeeze()\n",
        "        ).abs().max() < 1e-5, \"running variance is incorrect (%s mode)\" % (\n",
        "            \"train\" if mode else \"eval\"\n",
        "        )\n",
        "        assert (\n",
        "            out1 - out2\n",
        "        ).abs().max() < 5e-3, \"normalized output is incorrect (%s mode)\" % (\n",
        "            \"train\" if mode else \"eval\"\n",
        "        )\n",
        "print(\"All OK!\")"
      ]
    },
    {
      "cell_type": "code",
      "source": [
        ""
      ],
      "metadata": {
        "id": "nhqLbSCJKrWg"
      },
      "execution_count": null,
      "outputs": []
    }
  ],
  "metadata": {
    "accelerator": "GPU",
    "colab": {
      "collapsed_sections": [],
      "name": "convnet_tutorial2b_Fatoumata_HAIDARA_BN_filled.ipynb",
      "provenance": [],
      "include_colab_link": true
    },
    "kernelspec": {
      "display_name": "Python 3 (ipykernel)",
      "language": "python",
      "name": "python3"
    },
    "language_info": {
      "codemirror_mode": {
        "name": "ipython",
        "version": 3
      },
      "file_extension": ".py",
      "mimetype": "text/x-python",
      "name": "python",
      "nbconvert_exporter": "python",
      "pygments_lexer": "ipython3",
      "version": "3.10.2"
    },
    "widgets": {
      "application/vnd.jupyter.widget-state+json": {
        "f1b815e47f824a99a39fb7cc8623958a": {
          "model_module": "@jupyter-widgets/controls",
          "model_name": "HBoxModel",
          "model_module_version": "1.5.0",
          "state": {
            "_dom_classes": [],
            "_model_module": "@jupyter-widgets/controls",
            "_model_module_version": "1.5.0",
            "_model_name": "HBoxModel",
            "_view_count": null,
            "_view_module": "@jupyter-widgets/controls",
            "_view_module_version": "1.5.0",
            "_view_name": "HBoxView",
            "box_style": "",
            "children": [
              "IPY_MODEL_b4bb8351011a4b399a865b7821d7ae3d",
              "IPY_MODEL_f7636221c06d46cb965068ba2ff23936",
              "IPY_MODEL_90beb5e3daf54637ab9d2a1279007512"
            ],
            "layout": "IPY_MODEL_daf784df7d6a42f68f58e4953cbe2474"
          }
        },
        "b4bb8351011a4b399a865b7821d7ae3d": {
          "model_module": "@jupyter-widgets/controls",
          "model_name": "HTMLModel",
          "model_module_version": "1.5.0",
          "state": {
            "_dom_classes": [],
            "_model_module": "@jupyter-widgets/controls",
            "_model_module_version": "1.5.0",
            "_model_name": "HTMLModel",
            "_view_count": null,
            "_view_module": "@jupyter-widgets/controls",
            "_view_module_version": "1.5.0",
            "_view_name": "HTMLView",
            "description": "",
            "description_tooltip": null,
            "layout": "IPY_MODEL_46a2cca9832f4c47991b053481cca4c6",
            "placeholder": "​",
            "style": "IPY_MODEL_7b451f0ca808400fb29c7f1ba0e8f13f",
            "value": ""
          }
        },
        "f7636221c06d46cb965068ba2ff23936": {
          "model_module": "@jupyter-widgets/controls",
          "model_name": "FloatProgressModel",
          "model_module_version": "1.5.0",
          "state": {
            "_dom_classes": [],
            "_model_module": "@jupyter-widgets/controls",
            "_model_module_version": "1.5.0",
            "_model_name": "FloatProgressModel",
            "_view_count": null,
            "_view_module": "@jupyter-widgets/controls",
            "_view_module_version": "1.5.0",
            "_view_name": "ProgressView",
            "bar_style": "success",
            "description": "",
            "description_tooltip": null,
            "layout": "IPY_MODEL_2dfc785bdfde40df9d80a8bd3fd6e142",
            "max": 9912422,
            "min": 0,
            "orientation": "horizontal",
            "style": "IPY_MODEL_f8c4c137f54e40558ccd8b30491df899",
            "value": 9912422
          }
        },
        "90beb5e3daf54637ab9d2a1279007512": {
          "model_module": "@jupyter-widgets/controls",
          "model_name": "HTMLModel",
          "model_module_version": "1.5.0",
          "state": {
            "_dom_classes": [],
            "_model_module": "@jupyter-widgets/controls",
            "_model_module_version": "1.5.0",
            "_model_name": "HTMLModel",
            "_view_count": null,
            "_view_module": "@jupyter-widgets/controls",
            "_view_module_version": "1.5.0",
            "_view_name": "HTMLView",
            "description": "",
            "description_tooltip": null,
            "layout": "IPY_MODEL_b602d93b2cac44869efc0a12abb9fc53",
            "placeholder": "​",
            "style": "IPY_MODEL_ab4a6caf944841eabf1c13cf9786edab",
            "value": " 9913344/? [00:00&lt;00:00, 20530681.14it/s]"
          }
        },
        "daf784df7d6a42f68f58e4953cbe2474": {
          "model_module": "@jupyter-widgets/base",
          "model_name": "LayoutModel",
          "model_module_version": "1.2.0",
          "state": {
            "_model_module": "@jupyter-widgets/base",
            "_model_module_version": "1.2.0",
            "_model_name": "LayoutModel",
            "_view_count": null,
            "_view_module": "@jupyter-widgets/base",
            "_view_module_version": "1.2.0",
            "_view_name": "LayoutView",
            "align_content": null,
            "align_items": null,
            "align_self": null,
            "border": null,
            "bottom": null,
            "display": null,
            "flex": null,
            "flex_flow": null,
            "grid_area": null,
            "grid_auto_columns": null,
            "grid_auto_flow": null,
            "grid_auto_rows": null,
            "grid_column": null,
            "grid_gap": null,
            "grid_row": null,
            "grid_template_areas": null,
            "grid_template_columns": null,
            "grid_template_rows": null,
            "height": null,
            "justify_content": null,
            "justify_items": null,
            "left": null,
            "margin": null,
            "max_height": null,
            "max_width": null,
            "min_height": null,
            "min_width": null,
            "object_fit": null,
            "object_position": null,
            "order": null,
            "overflow": null,
            "overflow_x": null,
            "overflow_y": null,
            "padding": null,
            "right": null,
            "top": null,
            "visibility": null,
            "width": null
          }
        },
        "46a2cca9832f4c47991b053481cca4c6": {
          "model_module": "@jupyter-widgets/base",
          "model_name": "LayoutModel",
          "model_module_version": "1.2.0",
          "state": {
            "_model_module": "@jupyter-widgets/base",
            "_model_module_version": "1.2.0",
            "_model_name": "LayoutModel",
            "_view_count": null,
            "_view_module": "@jupyter-widgets/base",
            "_view_module_version": "1.2.0",
            "_view_name": "LayoutView",
            "align_content": null,
            "align_items": null,
            "align_self": null,
            "border": null,
            "bottom": null,
            "display": null,
            "flex": null,
            "flex_flow": null,
            "grid_area": null,
            "grid_auto_columns": null,
            "grid_auto_flow": null,
            "grid_auto_rows": null,
            "grid_column": null,
            "grid_gap": null,
            "grid_row": null,
            "grid_template_areas": null,
            "grid_template_columns": null,
            "grid_template_rows": null,
            "height": null,
            "justify_content": null,
            "justify_items": null,
            "left": null,
            "margin": null,
            "max_height": null,
            "max_width": null,
            "min_height": null,
            "min_width": null,
            "object_fit": null,
            "object_position": null,
            "order": null,
            "overflow": null,
            "overflow_x": null,
            "overflow_y": null,
            "padding": null,
            "right": null,
            "top": null,
            "visibility": null,
            "width": null
          }
        },
        "7b451f0ca808400fb29c7f1ba0e8f13f": {
          "model_module": "@jupyter-widgets/controls",
          "model_name": "DescriptionStyleModel",
          "model_module_version": "1.5.0",
          "state": {
            "_model_module": "@jupyter-widgets/controls",
            "_model_module_version": "1.5.0",
            "_model_name": "DescriptionStyleModel",
            "_view_count": null,
            "_view_module": "@jupyter-widgets/base",
            "_view_module_version": "1.2.0",
            "_view_name": "StyleView",
            "description_width": ""
          }
        },
        "2dfc785bdfde40df9d80a8bd3fd6e142": {
          "model_module": "@jupyter-widgets/base",
          "model_name": "LayoutModel",
          "model_module_version": "1.2.0",
          "state": {
            "_model_module": "@jupyter-widgets/base",
            "_model_module_version": "1.2.0",
            "_model_name": "LayoutModel",
            "_view_count": null,
            "_view_module": "@jupyter-widgets/base",
            "_view_module_version": "1.2.0",
            "_view_name": "LayoutView",
            "align_content": null,
            "align_items": null,
            "align_self": null,
            "border": null,
            "bottom": null,
            "display": null,
            "flex": null,
            "flex_flow": null,
            "grid_area": null,
            "grid_auto_columns": null,
            "grid_auto_flow": null,
            "grid_auto_rows": null,
            "grid_column": null,
            "grid_gap": null,
            "grid_row": null,
            "grid_template_areas": null,
            "grid_template_columns": null,
            "grid_template_rows": null,
            "height": null,
            "justify_content": null,
            "justify_items": null,
            "left": null,
            "margin": null,
            "max_height": null,
            "max_width": null,
            "min_height": null,
            "min_width": null,
            "object_fit": null,
            "object_position": null,
            "order": null,
            "overflow": null,
            "overflow_x": null,
            "overflow_y": null,
            "padding": null,
            "right": null,
            "top": null,
            "visibility": null,
            "width": null
          }
        },
        "f8c4c137f54e40558ccd8b30491df899": {
          "model_module": "@jupyter-widgets/controls",
          "model_name": "ProgressStyleModel",
          "model_module_version": "1.5.0",
          "state": {
            "_model_module": "@jupyter-widgets/controls",
            "_model_module_version": "1.5.0",
            "_model_name": "ProgressStyleModel",
            "_view_count": null,
            "_view_module": "@jupyter-widgets/base",
            "_view_module_version": "1.2.0",
            "_view_name": "StyleView",
            "bar_color": null,
            "description_width": ""
          }
        },
        "b602d93b2cac44869efc0a12abb9fc53": {
          "model_module": "@jupyter-widgets/base",
          "model_name": "LayoutModel",
          "model_module_version": "1.2.0",
          "state": {
            "_model_module": "@jupyter-widgets/base",
            "_model_module_version": "1.2.0",
            "_model_name": "LayoutModel",
            "_view_count": null,
            "_view_module": "@jupyter-widgets/base",
            "_view_module_version": "1.2.0",
            "_view_name": "LayoutView",
            "align_content": null,
            "align_items": null,
            "align_self": null,
            "border": null,
            "bottom": null,
            "display": null,
            "flex": null,
            "flex_flow": null,
            "grid_area": null,
            "grid_auto_columns": null,
            "grid_auto_flow": null,
            "grid_auto_rows": null,
            "grid_column": null,
            "grid_gap": null,
            "grid_row": null,
            "grid_template_areas": null,
            "grid_template_columns": null,
            "grid_template_rows": null,
            "height": null,
            "justify_content": null,
            "justify_items": null,
            "left": null,
            "margin": null,
            "max_height": null,
            "max_width": null,
            "min_height": null,
            "min_width": null,
            "object_fit": null,
            "object_position": null,
            "order": null,
            "overflow": null,
            "overflow_x": null,
            "overflow_y": null,
            "padding": null,
            "right": null,
            "top": null,
            "visibility": null,
            "width": null
          }
        },
        "ab4a6caf944841eabf1c13cf9786edab": {
          "model_module": "@jupyter-widgets/controls",
          "model_name": "DescriptionStyleModel",
          "model_module_version": "1.5.0",
          "state": {
            "_model_module": "@jupyter-widgets/controls",
            "_model_module_version": "1.5.0",
            "_model_name": "DescriptionStyleModel",
            "_view_count": null,
            "_view_module": "@jupyter-widgets/base",
            "_view_module_version": "1.2.0",
            "_view_name": "StyleView",
            "description_width": ""
          }
        },
        "6f636a83162e4fe79a1e9db7aecfd4fb": {
          "model_module": "@jupyter-widgets/controls",
          "model_name": "HBoxModel",
          "model_module_version": "1.5.0",
          "state": {
            "_dom_classes": [],
            "_model_module": "@jupyter-widgets/controls",
            "_model_module_version": "1.5.0",
            "_model_name": "HBoxModel",
            "_view_count": null,
            "_view_module": "@jupyter-widgets/controls",
            "_view_module_version": "1.5.0",
            "_view_name": "HBoxView",
            "box_style": "",
            "children": [
              "IPY_MODEL_12da61620a9b42df82137b190d6cad51",
              "IPY_MODEL_87ace2491416404980ee491df8bd47f7",
              "IPY_MODEL_38288837e8fd4d3586caacfedc5f8755"
            ],
            "layout": "IPY_MODEL_a6777f146bc74414b347859c4d2de860"
          }
        },
        "12da61620a9b42df82137b190d6cad51": {
          "model_module": "@jupyter-widgets/controls",
          "model_name": "HTMLModel",
          "model_module_version": "1.5.0",
          "state": {
            "_dom_classes": [],
            "_model_module": "@jupyter-widgets/controls",
            "_model_module_version": "1.5.0",
            "_model_name": "HTMLModel",
            "_view_count": null,
            "_view_module": "@jupyter-widgets/controls",
            "_view_module_version": "1.5.0",
            "_view_name": "HTMLView",
            "description": "",
            "description_tooltip": null,
            "layout": "IPY_MODEL_96ffdfea6f544bdf80fea47e18b49027",
            "placeholder": "​",
            "style": "IPY_MODEL_9ef282a272194c71a6a00dce39f4d1b2",
            "value": ""
          }
        },
        "87ace2491416404980ee491df8bd47f7": {
          "model_module": "@jupyter-widgets/controls",
          "model_name": "FloatProgressModel",
          "model_module_version": "1.5.0",
          "state": {
            "_dom_classes": [],
            "_model_module": "@jupyter-widgets/controls",
            "_model_module_version": "1.5.0",
            "_model_name": "FloatProgressModel",
            "_view_count": null,
            "_view_module": "@jupyter-widgets/controls",
            "_view_module_version": "1.5.0",
            "_view_name": "ProgressView",
            "bar_style": "success",
            "description": "",
            "description_tooltip": null,
            "layout": "IPY_MODEL_9078f69110c54fe2bcd5d7bb26ec27d9",
            "max": 28881,
            "min": 0,
            "orientation": "horizontal",
            "style": "IPY_MODEL_084f0a24c9fb4f1fb9cacdb9b97c5148",
            "value": 28881
          }
        },
        "38288837e8fd4d3586caacfedc5f8755": {
          "model_module": "@jupyter-widgets/controls",
          "model_name": "HTMLModel",
          "model_module_version": "1.5.0",
          "state": {
            "_dom_classes": [],
            "_model_module": "@jupyter-widgets/controls",
            "_model_module_version": "1.5.0",
            "_model_name": "HTMLModel",
            "_view_count": null,
            "_view_module": "@jupyter-widgets/controls",
            "_view_module_version": "1.5.0",
            "_view_name": "HTMLView",
            "description": "",
            "description_tooltip": null,
            "layout": "IPY_MODEL_f6d157d5ebce491fb56c0cd1fe621bab",
            "placeholder": "​",
            "style": "IPY_MODEL_cbca622548dd45a0982ac4b17c96d44e",
            "value": " 29696/? [00:00&lt;00:00, 750393.42it/s]"
          }
        },
        "a6777f146bc74414b347859c4d2de860": {
          "model_module": "@jupyter-widgets/base",
          "model_name": "LayoutModel",
          "model_module_version": "1.2.0",
          "state": {
            "_model_module": "@jupyter-widgets/base",
            "_model_module_version": "1.2.0",
            "_model_name": "LayoutModel",
            "_view_count": null,
            "_view_module": "@jupyter-widgets/base",
            "_view_module_version": "1.2.0",
            "_view_name": "LayoutView",
            "align_content": null,
            "align_items": null,
            "align_self": null,
            "border": null,
            "bottom": null,
            "display": null,
            "flex": null,
            "flex_flow": null,
            "grid_area": null,
            "grid_auto_columns": null,
            "grid_auto_flow": null,
            "grid_auto_rows": null,
            "grid_column": null,
            "grid_gap": null,
            "grid_row": null,
            "grid_template_areas": null,
            "grid_template_columns": null,
            "grid_template_rows": null,
            "height": null,
            "justify_content": null,
            "justify_items": null,
            "left": null,
            "margin": null,
            "max_height": null,
            "max_width": null,
            "min_height": null,
            "min_width": null,
            "object_fit": null,
            "object_position": null,
            "order": null,
            "overflow": null,
            "overflow_x": null,
            "overflow_y": null,
            "padding": null,
            "right": null,
            "top": null,
            "visibility": null,
            "width": null
          }
        },
        "96ffdfea6f544bdf80fea47e18b49027": {
          "model_module": "@jupyter-widgets/base",
          "model_name": "LayoutModel",
          "model_module_version": "1.2.0",
          "state": {
            "_model_module": "@jupyter-widgets/base",
            "_model_module_version": "1.2.0",
            "_model_name": "LayoutModel",
            "_view_count": null,
            "_view_module": "@jupyter-widgets/base",
            "_view_module_version": "1.2.0",
            "_view_name": "LayoutView",
            "align_content": null,
            "align_items": null,
            "align_self": null,
            "border": null,
            "bottom": null,
            "display": null,
            "flex": null,
            "flex_flow": null,
            "grid_area": null,
            "grid_auto_columns": null,
            "grid_auto_flow": null,
            "grid_auto_rows": null,
            "grid_column": null,
            "grid_gap": null,
            "grid_row": null,
            "grid_template_areas": null,
            "grid_template_columns": null,
            "grid_template_rows": null,
            "height": null,
            "justify_content": null,
            "justify_items": null,
            "left": null,
            "margin": null,
            "max_height": null,
            "max_width": null,
            "min_height": null,
            "min_width": null,
            "object_fit": null,
            "object_position": null,
            "order": null,
            "overflow": null,
            "overflow_x": null,
            "overflow_y": null,
            "padding": null,
            "right": null,
            "top": null,
            "visibility": null,
            "width": null
          }
        },
        "9ef282a272194c71a6a00dce39f4d1b2": {
          "model_module": "@jupyter-widgets/controls",
          "model_name": "DescriptionStyleModel",
          "model_module_version": "1.5.0",
          "state": {
            "_model_module": "@jupyter-widgets/controls",
            "_model_module_version": "1.5.0",
            "_model_name": "DescriptionStyleModel",
            "_view_count": null,
            "_view_module": "@jupyter-widgets/base",
            "_view_module_version": "1.2.0",
            "_view_name": "StyleView",
            "description_width": ""
          }
        },
        "9078f69110c54fe2bcd5d7bb26ec27d9": {
          "model_module": "@jupyter-widgets/base",
          "model_name": "LayoutModel",
          "model_module_version": "1.2.0",
          "state": {
            "_model_module": "@jupyter-widgets/base",
            "_model_module_version": "1.2.0",
            "_model_name": "LayoutModel",
            "_view_count": null,
            "_view_module": "@jupyter-widgets/base",
            "_view_module_version": "1.2.0",
            "_view_name": "LayoutView",
            "align_content": null,
            "align_items": null,
            "align_self": null,
            "border": null,
            "bottom": null,
            "display": null,
            "flex": null,
            "flex_flow": null,
            "grid_area": null,
            "grid_auto_columns": null,
            "grid_auto_flow": null,
            "grid_auto_rows": null,
            "grid_column": null,
            "grid_gap": null,
            "grid_row": null,
            "grid_template_areas": null,
            "grid_template_columns": null,
            "grid_template_rows": null,
            "height": null,
            "justify_content": null,
            "justify_items": null,
            "left": null,
            "margin": null,
            "max_height": null,
            "max_width": null,
            "min_height": null,
            "min_width": null,
            "object_fit": null,
            "object_position": null,
            "order": null,
            "overflow": null,
            "overflow_x": null,
            "overflow_y": null,
            "padding": null,
            "right": null,
            "top": null,
            "visibility": null,
            "width": null
          }
        },
        "084f0a24c9fb4f1fb9cacdb9b97c5148": {
          "model_module": "@jupyter-widgets/controls",
          "model_name": "ProgressStyleModel",
          "model_module_version": "1.5.0",
          "state": {
            "_model_module": "@jupyter-widgets/controls",
            "_model_module_version": "1.5.0",
            "_model_name": "ProgressStyleModel",
            "_view_count": null,
            "_view_module": "@jupyter-widgets/base",
            "_view_module_version": "1.2.0",
            "_view_name": "StyleView",
            "bar_color": null,
            "description_width": ""
          }
        },
        "f6d157d5ebce491fb56c0cd1fe621bab": {
          "model_module": "@jupyter-widgets/base",
          "model_name": "LayoutModel",
          "model_module_version": "1.2.0",
          "state": {
            "_model_module": "@jupyter-widgets/base",
            "_model_module_version": "1.2.0",
            "_model_name": "LayoutModel",
            "_view_count": null,
            "_view_module": "@jupyter-widgets/base",
            "_view_module_version": "1.2.0",
            "_view_name": "LayoutView",
            "align_content": null,
            "align_items": null,
            "align_self": null,
            "border": null,
            "bottom": null,
            "display": null,
            "flex": null,
            "flex_flow": null,
            "grid_area": null,
            "grid_auto_columns": null,
            "grid_auto_flow": null,
            "grid_auto_rows": null,
            "grid_column": null,
            "grid_gap": null,
            "grid_row": null,
            "grid_template_areas": null,
            "grid_template_columns": null,
            "grid_template_rows": null,
            "height": null,
            "justify_content": null,
            "justify_items": null,
            "left": null,
            "margin": null,
            "max_height": null,
            "max_width": null,
            "min_height": null,
            "min_width": null,
            "object_fit": null,
            "object_position": null,
            "order": null,
            "overflow": null,
            "overflow_x": null,
            "overflow_y": null,
            "padding": null,
            "right": null,
            "top": null,
            "visibility": null,
            "width": null
          }
        },
        "cbca622548dd45a0982ac4b17c96d44e": {
          "model_module": "@jupyter-widgets/controls",
          "model_name": "DescriptionStyleModel",
          "model_module_version": "1.5.0",
          "state": {
            "_model_module": "@jupyter-widgets/controls",
            "_model_module_version": "1.5.0",
            "_model_name": "DescriptionStyleModel",
            "_view_count": null,
            "_view_module": "@jupyter-widgets/base",
            "_view_module_version": "1.2.0",
            "_view_name": "StyleView",
            "description_width": ""
          }
        },
        "cd06400694a14d1a839892ebf1cf14ff": {
          "model_module": "@jupyter-widgets/controls",
          "model_name": "HBoxModel",
          "model_module_version": "1.5.0",
          "state": {
            "_dom_classes": [],
            "_model_module": "@jupyter-widgets/controls",
            "_model_module_version": "1.5.0",
            "_model_name": "HBoxModel",
            "_view_count": null,
            "_view_module": "@jupyter-widgets/controls",
            "_view_module_version": "1.5.0",
            "_view_name": "HBoxView",
            "box_style": "",
            "children": [
              "IPY_MODEL_18d082ed8995400687304d6322b6b232",
              "IPY_MODEL_3ea0d82224a44e1c85a235c2221f9479",
              "IPY_MODEL_2e6f044fe6f140499f59dbd352e2183d"
            ],
            "layout": "IPY_MODEL_a8fb2cc1c7f34f389c0a98e321294382"
          }
        },
        "18d082ed8995400687304d6322b6b232": {
          "model_module": "@jupyter-widgets/controls",
          "model_name": "HTMLModel",
          "model_module_version": "1.5.0",
          "state": {
            "_dom_classes": [],
            "_model_module": "@jupyter-widgets/controls",
            "_model_module_version": "1.5.0",
            "_model_name": "HTMLModel",
            "_view_count": null,
            "_view_module": "@jupyter-widgets/controls",
            "_view_module_version": "1.5.0",
            "_view_name": "HTMLView",
            "description": "",
            "description_tooltip": null,
            "layout": "IPY_MODEL_845612d150fb4fc4aca74d609137a5a8",
            "placeholder": "​",
            "style": "IPY_MODEL_718cdb88cd164db28c1e87fd2cea2714",
            "value": ""
          }
        },
        "3ea0d82224a44e1c85a235c2221f9479": {
          "model_module": "@jupyter-widgets/controls",
          "model_name": "FloatProgressModel",
          "model_module_version": "1.5.0",
          "state": {
            "_dom_classes": [],
            "_model_module": "@jupyter-widgets/controls",
            "_model_module_version": "1.5.0",
            "_model_name": "FloatProgressModel",
            "_view_count": null,
            "_view_module": "@jupyter-widgets/controls",
            "_view_module_version": "1.5.0",
            "_view_name": "ProgressView",
            "bar_style": "success",
            "description": "",
            "description_tooltip": null,
            "layout": "IPY_MODEL_81cb6b9896c1492f98e84437930dee9f",
            "max": 1648877,
            "min": 0,
            "orientation": "horizontal",
            "style": "IPY_MODEL_f76bfe5a1a2944e489349fbfe534b767",
            "value": 1648877
          }
        },
        "2e6f044fe6f140499f59dbd352e2183d": {
          "model_module": "@jupyter-widgets/controls",
          "model_name": "HTMLModel",
          "model_module_version": "1.5.0",
          "state": {
            "_dom_classes": [],
            "_model_module": "@jupyter-widgets/controls",
            "_model_module_version": "1.5.0",
            "_model_name": "HTMLModel",
            "_view_count": null,
            "_view_module": "@jupyter-widgets/controls",
            "_view_module_version": "1.5.0",
            "_view_name": "HTMLView",
            "description": "",
            "description_tooltip": null,
            "layout": "IPY_MODEL_23f61e3453cf405e890b9842969ca2af",
            "placeholder": "​",
            "style": "IPY_MODEL_3a78e42eb1db4efa8da34085d1196ceb",
            "value": " 1649664/? [00:00&lt;00:00, 9259944.83it/s]"
          }
        },
        "a8fb2cc1c7f34f389c0a98e321294382": {
          "model_module": "@jupyter-widgets/base",
          "model_name": "LayoutModel",
          "model_module_version": "1.2.0",
          "state": {
            "_model_module": "@jupyter-widgets/base",
            "_model_module_version": "1.2.0",
            "_model_name": "LayoutModel",
            "_view_count": null,
            "_view_module": "@jupyter-widgets/base",
            "_view_module_version": "1.2.0",
            "_view_name": "LayoutView",
            "align_content": null,
            "align_items": null,
            "align_self": null,
            "border": null,
            "bottom": null,
            "display": null,
            "flex": null,
            "flex_flow": null,
            "grid_area": null,
            "grid_auto_columns": null,
            "grid_auto_flow": null,
            "grid_auto_rows": null,
            "grid_column": null,
            "grid_gap": null,
            "grid_row": null,
            "grid_template_areas": null,
            "grid_template_columns": null,
            "grid_template_rows": null,
            "height": null,
            "justify_content": null,
            "justify_items": null,
            "left": null,
            "margin": null,
            "max_height": null,
            "max_width": null,
            "min_height": null,
            "min_width": null,
            "object_fit": null,
            "object_position": null,
            "order": null,
            "overflow": null,
            "overflow_x": null,
            "overflow_y": null,
            "padding": null,
            "right": null,
            "top": null,
            "visibility": null,
            "width": null
          }
        },
        "845612d150fb4fc4aca74d609137a5a8": {
          "model_module": "@jupyter-widgets/base",
          "model_name": "LayoutModel",
          "model_module_version": "1.2.0",
          "state": {
            "_model_module": "@jupyter-widgets/base",
            "_model_module_version": "1.2.0",
            "_model_name": "LayoutModel",
            "_view_count": null,
            "_view_module": "@jupyter-widgets/base",
            "_view_module_version": "1.2.0",
            "_view_name": "LayoutView",
            "align_content": null,
            "align_items": null,
            "align_self": null,
            "border": null,
            "bottom": null,
            "display": null,
            "flex": null,
            "flex_flow": null,
            "grid_area": null,
            "grid_auto_columns": null,
            "grid_auto_flow": null,
            "grid_auto_rows": null,
            "grid_column": null,
            "grid_gap": null,
            "grid_row": null,
            "grid_template_areas": null,
            "grid_template_columns": null,
            "grid_template_rows": null,
            "height": null,
            "justify_content": null,
            "justify_items": null,
            "left": null,
            "margin": null,
            "max_height": null,
            "max_width": null,
            "min_height": null,
            "min_width": null,
            "object_fit": null,
            "object_position": null,
            "order": null,
            "overflow": null,
            "overflow_x": null,
            "overflow_y": null,
            "padding": null,
            "right": null,
            "top": null,
            "visibility": null,
            "width": null
          }
        },
        "718cdb88cd164db28c1e87fd2cea2714": {
          "model_module": "@jupyter-widgets/controls",
          "model_name": "DescriptionStyleModel",
          "model_module_version": "1.5.0",
          "state": {
            "_model_module": "@jupyter-widgets/controls",
            "_model_module_version": "1.5.0",
            "_model_name": "DescriptionStyleModel",
            "_view_count": null,
            "_view_module": "@jupyter-widgets/base",
            "_view_module_version": "1.2.0",
            "_view_name": "StyleView",
            "description_width": ""
          }
        },
        "81cb6b9896c1492f98e84437930dee9f": {
          "model_module": "@jupyter-widgets/base",
          "model_name": "LayoutModel",
          "model_module_version": "1.2.0",
          "state": {
            "_model_module": "@jupyter-widgets/base",
            "_model_module_version": "1.2.0",
            "_model_name": "LayoutModel",
            "_view_count": null,
            "_view_module": "@jupyter-widgets/base",
            "_view_module_version": "1.2.0",
            "_view_name": "LayoutView",
            "align_content": null,
            "align_items": null,
            "align_self": null,
            "border": null,
            "bottom": null,
            "display": null,
            "flex": null,
            "flex_flow": null,
            "grid_area": null,
            "grid_auto_columns": null,
            "grid_auto_flow": null,
            "grid_auto_rows": null,
            "grid_column": null,
            "grid_gap": null,
            "grid_row": null,
            "grid_template_areas": null,
            "grid_template_columns": null,
            "grid_template_rows": null,
            "height": null,
            "justify_content": null,
            "justify_items": null,
            "left": null,
            "margin": null,
            "max_height": null,
            "max_width": null,
            "min_height": null,
            "min_width": null,
            "object_fit": null,
            "object_position": null,
            "order": null,
            "overflow": null,
            "overflow_x": null,
            "overflow_y": null,
            "padding": null,
            "right": null,
            "top": null,
            "visibility": null,
            "width": null
          }
        },
        "f76bfe5a1a2944e489349fbfe534b767": {
          "model_module": "@jupyter-widgets/controls",
          "model_name": "ProgressStyleModel",
          "model_module_version": "1.5.0",
          "state": {
            "_model_module": "@jupyter-widgets/controls",
            "_model_module_version": "1.5.0",
            "_model_name": "ProgressStyleModel",
            "_view_count": null,
            "_view_module": "@jupyter-widgets/base",
            "_view_module_version": "1.2.0",
            "_view_name": "StyleView",
            "bar_color": null,
            "description_width": ""
          }
        },
        "23f61e3453cf405e890b9842969ca2af": {
          "model_module": "@jupyter-widgets/base",
          "model_name": "LayoutModel",
          "model_module_version": "1.2.0",
          "state": {
            "_model_module": "@jupyter-widgets/base",
            "_model_module_version": "1.2.0",
            "_model_name": "LayoutModel",
            "_view_count": null,
            "_view_module": "@jupyter-widgets/base",
            "_view_module_version": "1.2.0",
            "_view_name": "LayoutView",
            "align_content": null,
            "align_items": null,
            "align_self": null,
            "border": null,
            "bottom": null,
            "display": null,
            "flex": null,
            "flex_flow": null,
            "grid_area": null,
            "grid_auto_columns": null,
            "grid_auto_flow": null,
            "grid_auto_rows": null,
            "grid_column": null,
            "grid_gap": null,
            "grid_row": null,
            "grid_template_areas": null,
            "grid_template_columns": null,
            "grid_template_rows": null,
            "height": null,
            "justify_content": null,
            "justify_items": null,
            "left": null,
            "margin": null,
            "max_height": null,
            "max_width": null,
            "min_height": null,
            "min_width": null,
            "object_fit": null,
            "object_position": null,
            "order": null,
            "overflow": null,
            "overflow_x": null,
            "overflow_y": null,
            "padding": null,
            "right": null,
            "top": null,
            "visibility": null,
            "width": null
          }
        },
        "3a78e42eb1db4efa8da34085d1196ceb": {
          "model_module": "@jupyter-widgets/controls",
          "model_name": "DescriptionStyleModel",
          "model_module_version": "1.5.0",
          "state": {
            "_model_module": "@jupyter-widgets/controls",
            "_model_module_version": "1.5.0",
            "_model_name": "DescriptionStyleModel",
            "_view_count": null,
            "_view_module": "@jupyter-widgets/base",
            "_view_module_version": "1.2.0",
            "_view_name": "StyleView",
            "description_width": ""
          }
        },
        "9d8cfce0de0a41d889a75b9693c51e1b": {
          "model_module": "@jupyter-widgets/controls",
          "model_name": "HBoxModel",
          "model_module_version": "1.5.0",
          "state": {
            "_dom_classes": [],
            "_model_module": "@jupyter-widgets/controls",
            "_model_module_version": "1.5.0",
            "_model_name": "HBoxModel",
            "_view_count": null,
            "_view_module": "@jupyter-widgets/controls",
            "_view_module_version": "1.5.0",
            "_view_name": "HBoxView",
            "box_style": "",
            "children": [
              "IPY_MODEL_c6230978af7249bfb139da1062a90172",
              "IPY_MODEL_bcc0e5fd1bd04ab3acdf1092cefb8718",
              "IPY_MODEL_cfee3177ee1b4a77a029ff6ec543482c"
            ],
            "layout": "IPY_MODEL_268687d5454246ccb324ec42d02d4fb2"
          }
        },
        "c6230978af7249bfb139da1062a90172": {
          "model_module": "@jupyter-widgets/controls",
          "model_name": "HTMLModel",
          "model_module_version": "1.5.0",
          "state": {
            "_dom_classes": [],
            "_model_module": "@jupyter-widgets/controls",
            "_model_module_version": "1.5.0",
            "_model_name": "HTMLModel",
            "_view_count": null,
            "_view_module": "@jupyter-widgets/controls",
            "_view_module_version": "1.5.0",
            "_view_name": "HTMLView",
            "description": "",
            "description_tooltip": null,
            "layout": "IPY_MODEL_17e486601b0043a9bc698e2d2440f3c6",
            "placeholder": "​",
            "style": "IPY_MODEL_836facc94f464c879c5ff0ad884dd8d6",
            "value": ""
          }
        },
        "bcc0e5fd1bd04ab3acdf1092cefb8718": {
          "model_module": "@jupyter-widgets/controls",
          "model_name": "FloatProgressModel",
          "model_module_version": "1.5.0",
          "state": {
            "_dom_classes": [],
            "_model_module": "@jupyter-widgets/controls",
            "_model_module_version": "1.5.0",
            "_model_name": "FloatProgressModel",
            "_view_count": null,
            "_view_module": "@jupyter-widgets/controls",
            "_view_module_version": "1.5.0",
            "_view_name": "ProgressView",
            "bar_style": "success",
            "description": "",
            "description_tooltip": null,
            "layout": "IPY_MODEL_06124fb3e5a2458aa933240aef34ba53",
            "max": 4542,
            "min": 0,
            "orientation": "horizontal",
            "style": "IPY_MODEL_1a11706abfb043748779715b5672184c",
            "value": 4542
          }
        },
        "cfee3177ee1b4a77a029ff6ec543482c": {
          "model_module": "@jupyter-widgets/controls",
          "model_name": "HTMLModel",
          "model_module_version": "1.5.0",
          "state": {
            "_dom_classes": [],
            "_model_module": "@jupyter-widgets/controls",
            "_model_module_version": "1.5.0",
            "_model_name": "HTMLModel",
            "_view_count": null,
            "_view_module": "@jupyter-widgets/controls",
            "_view_module_version": "1.5.0",
            "_view_name": "HTMLView",
            "description": "",
            "description_tooltip": null,
            "layout": "IPY_MODEL_540ab23005f44a60bd7d8fd7144af6ec",
            "placeholder": "​",
            "style": "IPY_MODEL_a2e94a56079d43a9b11865438cdd5f63",
            "value": " 5120/? [00:00&lt;00:00, 126774.48it/s]"
          }
        },
        "268687d5454246ccb324ec42d02d4fb2": {
          "model_module": "@jupyter-widgets/base",
          "model_name": "LayoutModel",
          "model_module_version": "1.2.0",
          "state": {
            "_model_module": "@jupyter-widgets/base",
            "_model_module_version": "1.2.0",
            "_model_name": "LayoutModel",
            "_view_count": null,
            "_view_module": "@jupyter-widgets/base",
            "_view_module_version": "1.2.0",
            "_view_name": "LayoutView",
            "align_content": null,
            "align_items": null,
            "align_self": null,
            "border": null,
            "bottom": null,
            "display": null,
            "flex": null,
            "flex_flow": null,
            "grid_area": null,
            "grid_auto_columns": null,
            "grid_auto_flow": null,
            "grid_auto_rows": null,
            "grid_column": null,
            "grid_gap": null,
            "grid_row": null,
            "grid_template_areas": null,
            "grid_template_columns": null,
            "grid_template_rows": null,
            "height": null,
            "justify_content": null,
            "justify_items": null,
            "left": null,
            "margin": null,
            "max_height": null,
            "max_width": null,
            "min_height": null,
            "min_width": null,
            "object_fit": null,
            "object_position": null,
            "order": null,
            "overflow": null,
            "overflow_x": null,
            "overflow_y": null,
            "padding": null,
            "right": null,
            "top": null,
            "visibility": null,
            "width": null
          }
        },
        "17e486601b0043a9bc698e2d2440f3c6": {
          "model_module": "@jupyter-widgets/base",
          "model_name": "LayoutModel",
          "model_module_version": "1.2.0",
          "state": {
            "_model_module": "@jupyter-widgets/base",
            "_model_module_version": "1.2.0",
            "_model_name": "LayoutModel",
            "_view_count": null,
            "_view_module": "@jupyter-widgets/base",
            "_view_module_version": "1.2.0",
            "_view_name": "LayoutView",
            "align_content": null,
            "align_items": null,
            "align_self": null,
            "border": null,
            "bottom": null,
            "display": null,
            "flex": null,
            "flex_flow": null,
            "grid_area": null,
            "grid_auto_columns": null,
            "grid_auto_flow": null,
            "grid_auto_rows": null,
            "grid_column": null,
            "grid_gap": null,
            "grid_row": null,
            "grid_template_areas": null,
            "grid_template_columns": null,
            "grid_template_rows": null,
            "height": null,
            "justify_content": null,
            "justify_items": null,
            "left": null,
            "margin": null,
            "max_height": null,
            "max_width": null,
            "min_height": null,
            "min_width": null,
            "object_fit": null,
            "object_position": null,
            "order": null,
            "overflow": null,
            "overflow_x": null,
            "overflow_y": null,
            "padding": null,
            "right": null,
            "top": null,
            "visibility": null,
            "width": null
          }
        },
        "836facc94f464c879c5ff0ad884dd8d6": {
          "model_module": "@jupyter-widgets/controls",
          "model_name": "DescriptionStyleModel",
          "model_module_version": "1.5.0",
          "state": {
            "_model_module": "@jupyter-widgets/controls",
            "_model_module_version": "1.5.0",
            "_model_name": "DescriptionStyleModel",
            "_view_count": null,
            "_view_module": "@jupyter-widgets/base",
            "_view_module_version": "1.2.0",
            "_view_name": "StyleView",
            "description_width": ""
          }
        },
        "06124fb3e5a2458aa933240aef34ba53": {
          "model_module": "@jupyter-widgets/base",
          "model_name": "LayoutModel",
          "model_module_version": "1.2.0",
          "state": {
            "_model_module": "@jupyter-widgets/base",
            "_model_module_version": "1.2.0",
            "_model_name": "LayoutModel",
            "_view_count": null,
            "_view_module": "@jupyter-widgets/base",
            "_view_module_version": "1.2.0",
            "_view_name": "LayoutView",
            "align_content": null,
            "align_items": null,
            "align_self": null,
            "border": null,
            "bottom": null,
            "display": null,
            "flex": null,
            "flex_flow": null,
            "grid_area": null,
            "grid_auto_columns": null,
            "grid_auto_flow": null,
            "grid_auto_rows": null,
            "grid_column": null,
            "grid_gap": null,
            "grid_row": null,
            "grid_template_areas": null,
            "grid_template_columns": null,
            "grid_template_rows": null,
            "height": null,
            "justify_content": null,
            "justify_items": null,
            "left": null,
            "margin": null,
            "max_height": null,
            "max_width": null,
            "min_height": null,
            "min_width": null,
            "object_fit": null,
            "object_position": null,
            "order": null,
            "overflow": null,
            "overflow_x": null,
            "overflow_y": null,
            "padding": null,
            "right": null,
            "top": null,
            "visibility": null,
            "width": null
          }
        },
        "1a11706abfb043748779715b5672184c": {
          "model_module": "@jupyter-widgets/controls",
          "model_name": "ProgressStyleModel",
          "model_module_version": "1.5.0",
          "state": {
            "_model_module": "@jupyter-widgets/controls",
            "_model_module_version": "1.5.0",
            "_model_name": "ProgressStyleModel",
            "_view_count": null,
            "_view_module": "@jupyter-widgets/base",
            "_view_module_version": "1.2.0",
            "_view_name": "StyleView",
            "bar_color": null,
            "description_width": ""
          }
        },
        "540ab23005f44a60bd7d8fd7144af6ec": {
          "model_module": "@jupyter-widgets/base",
          "model_name": "LayoutModel",
          "model_module_version": "1.2.0",
          "state": {
            "_model_module": "@jupyter-widgets/base",
            "_model_module_version": "1.2.0",
            "_model_name": "LayoutModel",
            "_view_count": null,
            "_view_module": "@jupyter-widgets/base",
            "_view_module_version": "1.2.0",
            "_view_name": "LayoutView",
            "align_content": null,
            "align_items": null,
            "align_self": null,
            "border": null,
            "bottom": null,
            "display": null,
            "flex": null,
            "flex_flow": null,
            "grid_area": null,
            "grid_auto_columns": null,
            "grid_auto_flow": null,
            "grid_auto_rows": null,
            "grid_column": null,
            "grid_gap": null,
            "grid_row": null,
            "grid_template_areas": null,
            "grid_template_columns": null,
            "grid_template_rows": null,
            "height": null,
            "justify_content": null,
            "justify_items": null,
            "left": null,
            "margin": null,
            "max_height": null,
            "max_width": null,
            "min_height": null,
            "min_width": null,
            "object_fit": null,
            "object_position": null,
            "order": null,
            "overflow": null,
            "overflow_x": null,
            "overflow_y": null,
            "padding": null,
            "right": null,
            "top": null,
            "visibility": null,
            "width": null
          }
        },
        "a2e94a56079d43a9b11865438cdd5f63": {
          "model_module": "@jupyter-widgets/controls",
          "model_name": "DescriptionStyleModel",
          "model_module_version": "1.5.0",
          "state": {
            "_model_module": "@jupyter-widgets/controls",
            "_model_module_version": "1.5.0",
            "_model_name": "DescriptionStyleModel",
            "_view_count": null,
            "_view_module": "@jupyter-widgets/base",
            "_view_module_version": "1.2.0",
            "_view_name": "StyleView",
            "description_width": ""
          }
        }
      }
    }
  },
  "nbformat": 4,
  "nbformat_minor": 0
}