{
  "metadata": {
    "kernelspec": {
      "language": "python",
      "display_name": "Python 3",
      "name": "python3"
    },
    "language_info": {
      "name": "python",
      "version": "3.7.9",
      "mimetype": "text/x-python",
      "codemirror_mode": {
        "name": "ipython",
        "version": 3
      },
      "pygments_lexer": "ipython3",
      "nbconvert_exporter": "python",
      "file_extension": ".py"
    },
    "colab": {
      "name": "Copy of ammi-cassava-warriors-starter-code_.ipynb",
      "provenance": [],
      "collapsed_sections": [],
      "include_colab_link": true
    },
    "accelerator": "TPU",
    "widgets": {
      "application/vnd.jupyter.widget-state+json": {
        "c979c94360914423b50868cd13e1290e": {
          "model_module": "@jupyter-widgets/controls",
          "model_name": "HBoxModel",
          "model_module_version": "1.5.0",
          "state": {
            "_dom_classes": [],
            "_model_module": "@jupyter-widgets/controls",
            "_model_module_version": "1.5.0",
            "_model_name": "HBoxModel",
            "_view_count": null,
            "_view_module": "@jupyter-widgets/controls",
            "_view_module_version": "1.5.0",
            "_view_name": "HBoxView",
            "box_style": "",
            "children": [
              "IPY_MODEL_e819c656948a4114990fa3f3cffe8420",
              "IPY_MODEL_b143b4c8d82d49578b79648bb80aee7f",
              "IPY_MODEL_3baeb822efc64169bb6ceeb088de03dd"
            ],
            "layout": "IPY_MODEL_09bef35792314e4c836196dd2b026b77"
          }
        },
        "e819c656948a4114990fa3f3cffe8420": {
          "model_module": "@jupyter-widgets/controls",
          "model_name": "HTMLModel",
          "model_module_version": "1.5.0",
          "state": {
            "_dom_classes": [],
            "_model_module": "@jupyter-widgets/controls",
            "_model_module_version": "1.5.0",
            "_model_name": "HTMLModel",
            "_view_count": null,
            "_view_module": "@jupyter-widgets/controls",
            "_view_module_version": "1.5.0",
            "_view_name": "HTMLView",
            "description": "",
            "description_tooltip": null,
            "layout": "IPY_MODEL_842cd462bb0544a79b147d17ead7f6eb",
            "placeholder": "​",
            "style": "IPY_MODEL_644d5cd2ecb04c7e926cb640368a8be1",
            "value": "100%"
          }
        },
        "b143b4c8d82d49578b79648bb80aee7f": {
          "model_module": "@jupyter-widgets/controls",
          "model_name": "FloatProgressModel",
          "model_module_version": "1.5.0",
          "state": {
            "_dom_classes": [],
            "_model_module": "@jupyter-widgets/controls",
            "_model_module_version": "1.5.0",
            "_model_name": "FloatProgressModel",
            "_view_count": null,
            "_view_module": "@jupyter-widgets/controls",
            "_view_module_version": "1.5.0",
            "_view_name": "ProgressView",
            "bar_style": "success",
            "description": "",
            "description_tooltip": null,
            "layout": "IPY_MODEL_c19a4e3b4ba54faaac4d6a9e451ed1cc",
            "max": 196466866,
            "min": 0,
            "orientation": "horizontal",
            "style": "IPY_MODEL_4f95dd33625b40a49a8367ee7f1d86f5",
            "value": 196466866
          }
        },
        "3baeb822efc64169bb6ceeb088de03dd": {
          "model_module": "@jupyter-widgets/controls",
          "model_name": "HTMLModel",
          "model_module_version": "1.5.0",
          "state": {
            "_dom_classes": [],
            "_model_module": "@jupyter-widgets/controls",
            "_model_module_version": "1.5.0",
            "_model_name": "HTMLModel",
            "_view_count": null,
            "_view_module": "@jupyter-widgets/controls",
            "_view_module_version": "1.5.0",
            "_view_name": "HTMLView",
            "description": "",
            "description_tooltip": null,
            "layout": "IPY_MODEL_a54e646aeaea472e9af7b43954764d57",
            "placeholder": "​",
            "style": "IPY_MODEL_a6d6d8a9a46f4ae39e0b7eb37700f72c",
            "value": " 187M/187M [09:11&lt;00:00, 350kB/s]"
          }
        },
        "09bef35792314e4c836196dd2b026b77": {
          "model_module": "@jupyter-widgets/base",
          "model_name": "LayoutModel",
          "model_module_version": "1.2.0",
          "state": {
            "_model_module": "@jupyter-widgets/base",
            "_model_module_version": "1.2.0",
            "_model_name": "LayoutModel",
            "_view_count": null,
            "_view_module": "@jupyter-widgets/base",
            "_view_module_version": "1.2.0",
            "_view_name": "LayoutView",
            "align_content": null,
            "align_items": null,
            "align_self": null,
            "border": null,
            "bottom": null,
            "display": null,
            "flex": null,
            "flex_flow": null,
            "grid_area": null,
            "grid_auto_columns": null,
            "grid_auto_flow": null,
            "grid_auto_rows": null,
            "grid_column": null,
            "grid_gap": null,
            "grid_row": null,
            "grid_template_areas": null,
            "grid_template_columns": null,
            "grid_template_rows": null,
            "height": null,
            "justify_content": null,
            "justify_items": null,
            "left": null,
            "margin": null,
            "max_height": null,
            "max_width": null,
            "min_height": null,
            "min_width": null,
            "object_fit": null,
            "object_position": null,
            "order": null,
            "overflow": null,
            "overflow_x": null,
            "overflow_y": null,
            "padding": null,
            "right": null,
            "top": null,
            "visibility": null,
            "width": null
          }
        },
        "842cd462bb0544a79b147d17ead7f6eb": {
          "model_module": "@jupyter-widgets/base",
          "model_name": "LayoutModel",
          "model_module_version": "1.2.0",
          "state": {
            "_model_module": "@jupyter-widgets/base",
            "_model_module_version": "1.2.0",
            "_model_name": "LayoutModel",
            "_view_count": null,
            "_view_module": "@jupyter-widgets/base",
            "_view_module_version": "1.2.0",
            "_view_name": "LayoutView",
            "align_content": null,
            "align_items": null,
            "align_self": null,
            "border": null,
            "bottom": null,
            "display": null,
            "flex": null,
            "flex_flow": null,
            "grid_area": null,
            "grid_auto_columns": null,
            "grid_auto_flow": null,
            "grid_auto_rows": null,
            "grid_column": null,
            "grid_gap": null,
            "grid_row": null,
            "grid_template_areas": null,
            "grid_template_columns": null,
            "grid_template_rows": null,
            "height": null,
            "justify_content": null,
            "justify_items": null,
            "left": null,
            "margin": null,
            "max_height": null,
            "max_width": null,
            "min_height": null,
            "min_width": null,
            "object_fit": null,
            "object_position": null,
            "order": null,
            "overflow": null,
            "overflow_x": null,
            "overflow_y": null,
            "padding": null,
            "right": null,
            "top": null,
            "visibility": null,
            "width": null
          }
        },
        "644d5cd2ecb04c7e926cb640368a8be1": {
          "model_module": "@jupyter-widgets/controls",
          "model_name": "DescriptionStyleModel",
          "model_module_version": "1.5.0",
          "state": {
            "_model_module": "@jupyter-widgets/controls",
            "_model_module_version": "1.5.0",
            "_model_name": "DescriptionStyleModel",
            "_view_count": null,
            "_view_module": "@jupyter-widgets/base",
            "_view_module_version": "1.2.0",
            "_view_name": "StyleView",
            "description_width": ""
          }
        },
        "c19a4e3b4ba54faaac4d6a9e451ed1cc": {
          "model_module": "@jupyter-widgets/base",
          "model_name": "LayoutModel",
          "model_module_version": "1.2.0",
          "state": {
            "_model_module": "@jupyter-widgets/base",
            "_model_module_version": "1.2.0",
            "_model_name": "LayoutModel",
            "_view_count": null,
            "_view_module": "@jupyter-widgets/base",
            "_view_module_version": "1.2.0",
            "_view_name": "LayoutView",
            "align_content": null,
            "align_items": null,
            "align_self": null,
            "border": null,
            "bottom": null,
            "display": null,
            "flex": null,
            "flex_flow": null,
            "grid_area": null,
            "grid_auto_columns": null,
            "grid_auto_flow": null,
            "grid_auto_rows": null,
            "grid_column": null,
            "grid_gap": null,
            "grid_row": null,
            "grid_template_areas": null,
            "grid_template_columns": null,
            "grid_template_rows": null,
            "height": null,
            "justify_content": null,
            "justify_items": null,
            "left": null,
            "margin": null,
            "max_height": null,
            "max_width": null,
            "min_height": null,
            "min_width": null,
            "object_fit": null,
            "object_position": null,
            "order": null,
            "overflow": null,
            "overflow_x": null,
            "overflow_y": null,
            "padding": null,
            "right": null,
            "top": null,
            "visibility": null,
            "width": null
          }
        },
        "4f95dd33625b40a49a8367ee7f1d86f5": {
          "model_module": "@jupyter-widgets/controls",
          "model_name": "ProgressStyleModel",
          "model_module_version": "1.5.0",
          "state": {
            "_model_module": "@jupyter-widgets/controls",
            "_model_module_version": "1.5.0",
            "_model_name": "ProgressStyleModel",
            "_view_count": null,
            "_view_module": "@jupyter-widgets/base",
            "_view_module_version": "1.2.0",
            "_view_name": "StyleView",
            "bar_color": null,
            "description_width": ""
          }
        },
        "a54e646aeaea472e9af7b43954764d57": {
          "model_module": "@jupyter-widgets/base",
          "model_name": "LayoutModel",
          "model_module_version": "1.2.0",
          "state": {
            "_model_module": "@jupyter-widgets/base",
            "_model_module_version": "1.2.0",
            "_model_name": "LayoutModel",
            "_view_count": null,
            "_view_module": "@jupyter-widgets/base",
            "_view_module_version": "1.2.0",
            "_view_name": "LayoutView",
            "align_content": null,
            "align_items": null,
            "align_self": null,
            "border": null,
            "bottom": null,
            "display": null,
            "flex": null,
            "flex_flow": null,
            "grid_area": null,
            "grid_auto_columns": null,
            "grid_auto_flow": null,
            "grid_auto_rows": null,
            "grid_column": null,
            "grid_gap": null,
            "grid_row": null,
            "grid_template_areas": null,
            "grid_template_columns": null,
            "grid_template_rows": null,
            "height": null,
            "justify_content": null,
            "justify_items": null,
            "left": null,
            "margin": null,
            "max_height": null,
            "max_width": null,
            "min_height": null,
            "min_width": null,
            "object_fit": null,
            "object_position": null,
            "order": null,
            "overflow": null,
            "overflow_x": null,
            "overflow_y": null,
            "padding": null,
            "right": null,
            "top": null,
            "visibility": null,
            "width": null
          }
        },
        "a6d6d8a9a46f4ae39e0b7eb37700f72c": {
          "model_module": "@jupyter-widgets/controls",
          "model_name": "DescriptionStyleModel",
          "model_module_version": "1.5.0",
          "state": {
            "_model_module": "@jupyter-widgets/controls",
            "_model_module_version": "1.5.0",
            "_model_name": "DescriptionStyleModel",
            "_view_count": null,
            "_view_module": "@jupyter-widgets/base",
            "_view_module_version": "1.2.0",
            "_view_name": "StyleView",
            "description_width": ""
          }
        }
      }
    }
  },
  "nbformat_minor": 0,
  "nbformat": 4,
  "cells": [
    {
      "cell_type": "markdown",
      "metadata": {
        "id": "view-in-github",
        "colab_type": "text"
      },
      "source": [
        "<a href=\"https://colab.research.google.com/github/fatimahaidara/Computer_Vision/blob/main/Copy_of_ammi_cassava_warriors_starter_code_.ipynb\" target=\"_parent\"><img src=\"https://colab.research.google.com/assets/colab-badge.svg\" alt=\"Open In Colab\"/></a>"
      ]
    },
    {
      "cell_type": "code",
      "source": [
        "!pip install ttach"
      ],
      "metadata": {
        "trusted": true,
        "colab": {
          "base_uri": "https://localhost:8080/"
        },
        "id": "dOo3GhDT3VSw",
        "outputId": "9ff635de-0f10-4ee3-c633-de9432e3222b"
      },
      "execution_count": null,
      "outputs": [
        {
          "output_type": "stream",
          "name": "stdout",
          "text": [
            "Collecting ttach\n",
            "  Downloading ttach-0.0.3-py3-none-any.whl (9.8 kB)\n",
            "Installing collected packages: ttach\n",
            "Successfully installed ttach-0.0.3\n"
          ]
        }
      ]
    },
    {
      "cell_type": "code",
      "source": [
        "from google.colab import drive\n",
        "drive.mount('/content/drive')"
      ],
      "metadata": {
        "id": "ktvkwAj03cPb",
        "colab": {
          "base_uri": "https://localhost:8080/"
        },
        "outputId": "258e6b32-27dc-4704-f7ff-a44c7bbe8879"
      },
      "execution_count": null,
      "outputs": [
        {
          "output_type": "stream",
          "name": "stdout",
          "text": [
            "Mounted at /content/drive\n"
          ]
        }
      ]
    },
    {
      "cell_type": "code",
      "source": [
        "!pip install git+https://github.com/gbaydin/hypergradient-descent.git"
      ],
      "metadata": {
        "trusted": true,
        "colab": {
          "base_uri": "https://localhost:8080/"
        },
        "id": "Wpf-qeEs3VS1",
        "outputId": "ab4d05c4-8590-4a69-95cd-d799dca622c8"
      },
      "execution_count": null,
      "outputs": [
        {
          "output_type": "stream",
          "name": "stdout",
          "text": [
            "Collecting git+https://github.com/gbaydin/hypergradient-descent.git\n",
            "  Cloning https://github.com/gbaydin/hypergradient-descent.git to /tmp/pip-req-build-netnqk8c\n",
            "  Running command git clone -q https://github.com/gbaydin/hypergradient-descent.git /tmp/pip-req-build-netnqk8c\n",
            "Building wheels for collected packages: hypergrad\n",
            "  Building wheel for hypergrad (setup.py) ... \u001b[?25l\u001b[?25hdone\n",
            "  Created wheel for hypergrad: filename=hypergrad-0.1-py3-none-any.whl size=8199 sha256=94bc215697ac5e2789154ba3ee88b900766910295aac59316c2c451ac08df552\n",
            "  Stored in directory: /tmp/pip-ephem-wheel-cache-ehhoqjue/wheels/fa/d5/8a/dc75fcd964cc54c2d95c3989c7b3382cd31c71bf1ec7d34750\n",
            "Successfully built hypergrad\n",
            "Installing collected packages: hypergrad\n",
            "Successfully installed hypergrad-0.1\n"
          ]
        }
      ]
    },
    {
      "cell_type": "code",
      "source": [
        "!pip install pretrainedmodels"
      ],
      "metadata": {
        "trusted": true,
        "colab": {
          "base_uri": "https://localhost:8080/"
        },
        "id": "vjwGCulF3VS2",
        "outputId": "3bd7546b-b99c-4956-adef-e97633b79606"
      },
      "execution_count": null,
      "outputs": [
        {
          "output_type": "stream",
          "name": "stdout",
          "text": [
            "Collecting pretrainedmodels\n",
            "  Downloading pretrainedmodels-0.7.4.tar.gz (58 kB)\n",
            "\u001b[?25l\r\u001b[K     |█████▋                          | 10 kB 21.4 MB/s eta 0:00:01\r\u001b[K     |███████████▏                    | 20 kB 11.9 MB/s eta 0:00:01\r\u001b[K     |████████████████▊               | 30 kB 9.3 MB/s eta 0:00:01\r\u001b[K     |██████████████████████▎         | 40 kB 8.6 MB/s eta 0:00:01\r\u001b[K     |███████████████████████████▉    | 51 kB 5.2 MB/s eta 0:00:01\r\u001b[K     |████████████████████████████████| 58 kB 3.0 MB/s \n",
            "\u001b[?25hRequirement already satisfied: torch in /usr/local/lib/python3.7/dist-packages (from pretrainedmodels) (1.10.0+cu111)\n",
            "Requirement already satisfied: torchvision in /usr/local/lib/python3.7/dist-packages (from pretrainedmodels) (0.11.1+cu111)\n",
            "Collecting munch\n",
            "  Downloading munch-2.5.0-py2.py3-none-any.whl (10 kB)\n",
            "Requirement already satisfied: tqdm in /usr/local/lib/python3.7/dist-packages (from pretrainedmodels) (4.64.0)\n",
            "Requirement already satisfied: six in /usr/local/lib/python3.7/dist-packages (from munch->pretrainedmodels) (1.15.0)\n",
            "Requirement already satisfied: typing-extensions in /usr/local/lib/python3.7/dist-packages (from torch->pretrainedmodels) (4.1.1)\n",
            "Requirement already satisfied: pillow!=8.3.0,>=5.3.0 in /usr/local/lib/python3.7/dist-packages (from torchvision->pretrainedmodels) (7.1.2)\n",
            "Requirement already satisfied: numpy in /usr/local/lib/python3.7/dist-packages (from torchvision->pretrainedmodels) (1.21.5)\n",
            "Building wheels for collected packages: pretrainedmodels\n",
            "  Building wheel for pretrainedmodels (setup.py) ... \u001b[?25l\u001b[?25hdone\n",
            "  Created wheel for pretrainedmodels: filename=pretrainedmodels-0.7.4-py3-none-any.whl size=60965 sha256=cc55907bcfd498bb2c1e85e552d2566a3a726cca923b8bffe23cf7fc6ee52f72\n",
            "  Stored in directory: /root/.cache/pip/wheels/ed/27/e8/9543d42de2740d3544db96aefef63bda3f2c1761b3334f4873\n",
            "Successfully built pretrainedmodels\n",
            "Installing collected packages: munch, pretrainedmodels\n",
            "Successfully installed munch-2.5.0 pretrainedmodels-0.7.4\n"
          ]
        }
      ]
    },
    {
      "cell_type": "code",
      "source": [
        "!pip install efficientnet_pytorch"
      ],
      "metadata": {
        "colab": {
          "base_uri": "https://localhost:8080/"
        },
        "id": "ZeAreaRk4oHx",
        "outputId": "5cf3eed6-7d20-44f9-988d-30fe18036ee0"
      },
      "execution_count": null,
      "outputs": [
        {
          "output_type": "stream",
          "name": "stdout",
          "text": [
            "Collecting efficientnet_pytorch\n",
            "  Downloading efficientnet_pytorch-0.7.1.tar.gz (21 kB)\n",
            "Requirement already satisfied: torch in /usr/local/lib/python3.7/dist-packages (from efficientnet_pytorch) (1.10.0+cu111)\n",
            "Requirement already satisfied: typing-extensions in /usr/local/lib/python3.7/dist-packages (from torch->efficientnet_pytorch) (4.1.1)\n",
            "Building wheels for collected packages: efficientnet-pytorch\n",
            "  Building wheel for efficientnet-pytorch (setup.py) ... \u001b[?25l\u001b[?25hdone\n",
            "  Created wheel for efficientnet-pytorch: filename=efficientnet_pytorch-0.7.1-py3-none-any.whl size=16446 sha256=2cd876a535d8452f9732c6c0807de2ddef338fdb32d3bb60a8e6164d62019ecf\n",
            "  Stored in directory: /root/.cache/pip/wheels/0e/cc/b2/49e74588263573ff778da58cc99b9c6349b496636a7e165be6\n",
            "Successfully built efficientnet-pytorch\n",
            "Installing collected packages: efficientnet-pytorch\n",
            "Successfully installed efficientnet-pytorch-0.7.1\n"
          ]
        }
      ]
    },
    {
      "cell_type": "code",
      "source": [
        "#Imports\n",
        "import os\n",
        "import sys\n",
        "import glob\n",
        "import torch\n",
        "import torchvision\n",
        "\n",
        "import numpy    as np\n",
        "import datetime as dt\n",
        "import torch.nn as nn\n",
        "import torch.nn.functional as F\n",
        "import matplotlib.pyplot   as plt\n",
        "\n",
        "from PIL               import Image\n",
        "from torch.utils.data  import Dataset\n",
        "from torch.autograd    import Variable\n",
        "from torch.optim       import lr_scheduler\n",
        "\n",
        "from torch.utils.data  import Dataset, DataLoader\n",
        "from torch.utils.data.sampler import SubsetRandomSampler\n",
        "from torchvision       import transforms, datasets, models\n",
        "from os                import listdir, makedirs, getcwd, remove\n",
        "from os.path           import isfile, join, abspath, exists, isdir, expanduser\n",
        "\n",
        "\n",
        "import pandas as pd\n",
        "\n",
        "from hypergrad import SGDHD, AdamHD\n",
        "\n",
        "import pretrainedmodels\n",
        "\n",
        "from efficientnet_pytorch import EfficientNet\n",
        "\n",
        "import ttach as tta\n",
        "\n",
        "%matplotlib inline"
      ],
      "metadata": {
        "_uuid": "8f2839f25d086af736a60e9eeb907d3b93b6e0e5",
        "_cell_guid": "b1076dfc-b9ad-4769-8c92-a6c4dae69d19",
        "trusted": true,
        "id": "2jSJHI1v3VS3"
      },
      "execution_count": null,
      "outputs": []
    },
    {
      "cell_type": "code",
      "source": [
        "NAME = \"SUBMISSION\"\n",
        "\n",
        "MODEL_NAME1 = 'se_resnext101_32x4d' # could be fbresnet152 or inceptionresnetv2\n",
        "\n",
        "DIM_1 = 550\n",
        "DIM_2 = 500\n",
        "DIM_TEST_1 = 550\n",
        "DIM_TEST_2 = 500\n",
        "\n",
        "BATCH_SIZE = 8\n",
        "\n",
        "NUM_EPOCHS1 = 3\n",
        "\n",
        "random_seed = 42\n",
        "shuffle_dataset = True\n",
        "validation_split = .1"
      ],
      "metadata": {
        "trusted": true,
        "id": "mw9G3qjv3VS4"
      },
      "execution_count": null,
      "outputs": []
    },
    {
      "cell_type": "code",
      "source": [
        "# Device configuration\n",
        "device = torch.device('cuda:0' if torch.cuda.is_available() else 'cpu')"
      ],
      "metadata": {
        "trusted": true,
        "id": "612VtXY93VS5"
      },
      "execution_count": null,
      "outputs": []
    },
    {
      "cell_type": "code",
      "source": [
        "data_path = \"/content/drive/MyDrive/data\"\n",
        "train_path = join(data_path, \"train/train\")\n",
        "test_path = join(data_path,\"test/test\")\n",
        "extraimage_path = join(data_path, \"extraimages/extraimages\")"
      ],
      "metadata": {
        "trusted": true,
        "id": "ac-GxvXI3VUD"
      },
      "execution_count": null,
      "outputs": []
    },
    {
      "cell_type": "code",
      "source": [
        "# Transformations for both the training and testing data\n",
        "mean=[0.485, 0.456, 0.406]\n",
        "std=[0.229, 0.224, 0.225]\n",
        "\n",
        "# Do data transforms here, Try many others\n",
        "train_transforms = transforms.Compose([transforms.RandomRotation(30),\n",
        "                                       transforms.Resize(DIM_1),\n",
        "                                       transforms.RandomCrop(DIM_2),\n",
        "                                       transforms.RandomHorizontalFlip(0.3),\n",
        "                                       transforms.RandomVerticalFlip(0.3),\n",
        "                                       transforms.ToTensor(),\n",
        "                                       transforms.RandomErasing(0.1),\n",
        "                                       transforms.Normalize(mean=mean, std=std)])\n",
        "\n",
        "test_transforms = transforms.Compose([ transforms.Resize(DIM_TEST_1),\n",
        "                                      transforms.CenterCrop(DIM_TEST_1),\n",
        "                                       transforms.ToTensor(),\n",
        "                                       transforms.Normalize(mean=mean, std=std)])"
      ],
      "metadata": {
        "trusted": true,
        "id": "1wpYUz9k3VUE"
      },
      "execution_count": null,
      "outputs": []
    },
    {
      "cell_type": "code",
      "source": [
        "class CassavaDataset(Dataset):\n",
        "    def __init__(self, path, dim, transform=None):\n",
        "        self.classes = os.listdir(path)\n",
        "        self.path = [f\"{path}/{className}\" for className in self.classes]\n",
        "        self.file_list = [glob.glob(f\"{x}/*\") for x in self.path]\n",
        "        self.transform = transform\n",
        "        self.dim = dim\n",
        "\n",
        "        self.targets = []\n",
        "        \n",
        "\n",
        "        files = []\n",
        "        for i, className in enumerate(self.classes):\n",
        "            for fileName in self.file_list[i]:\n",
        "                files.append([i, className, fileName])\n",
        "                self.targets.append(i)\n",
        "                \n",
        "        self.file_list = files\n",
        "        files = None\n",
        "\n",
        "    def __len__(self):\n",
        "        return len(self.file_list)\n",
        "\n",
        "    def __getitem__(self, idx):\n",
        "        fileName = self.file_list[idx][2]\n",
        "        classCategory = self.file_list[idx][0]\n",
        "        im = Image.open(fileName)\n",
        "        if self.transform:\n",
        "            im = self.transform(im)\n",
        "            \n",
        "        return im.view(3, self.dim, self.dim), classCategory\n",
        "\n",
        "class CassavaTestDataset(Dataset):\n",
        "    def __init__(self, path, dim, transform=None):\n",
        "        self.classes = os.listdir(path)\n",
        "        self.path = [f\"{path}/{className}\" for className in self.classes]\n",
        "        self.file_list = [glob.glob(f\"{x}/*\") for x in self.path]\n",
        "        self.transform = transform\n",
        "        self.indices = []\n",
        "        self.dim=dim\n",
        "\n",
        "        files = []\n",
        "        for i, className in enumerate(self.classes):\n",
        "            for fileName in self.file_list[i]:\n",
        "                files.append([i, className, fileName])\n",
        "                self.indices.append(fileName.split(\"/\")[-1])\n",
        "        self.file_list = files\n",
        "        files = None\n",
        "\n",
        "    def __len__(self):\n",
        "        return len(self.file_list)\n",
        "\n",
        "    def __getitem__(self, idx):\n",
        "        fileName = self.file_list[idx][2]\n",
        "        index = self.file_list[idx][2]\n",
        "        im = Image.open(fileName)\n",
        "        if self.transform:\n",
        "            im = self.transform(im)\n",
        "            \n",
        "        return im.view(3, self.dim, self.dim), index\n",
        "\n",
        "train_data = CassavaDataset(train_path, dim=DIM_2, transform=train_transforms)\n",
        "test_data = CassavaTestDataset(test_path, dim=DIM_TEST_1, transform=test_transforms)"
      ],
      "metadata": {
        "trusted": true,
        "id": "-FGuXyE-3VUF"
      },
      "execution_count": null,
      "outputs": []
    },
    {
      "cell_type": "code",
      "source": [
        "train_data.classes"
      ],
      "metadata": {
        "trusted": true,
        "colab": {
          "base_uri": "https://localhost:8080/"
        },
        "id": "zqsvtKcN3VUH",
        "outputId": "6400d678-8f29-4492-897d-3d8952ea57b7"
      },
      "execution_count": null,
      "outputs": [
        {
          "output_type": "execute_result",
          "data": {
            "text/plain": [
              "['cbb', 'cbsd', 'cgm', 'cmd', 'healthy']"
            ]
          },
          "metadata": {},
          "execution_count": 14
        }
      ]
    },
    {
      "cell_type": "code",
      "source": [
        "# Creating data indices for training and validation splits:\n",
        "dataset_size = len(train_data)\n",
        "indices = list(range(dataset_size))\n",
        "split = int(np.floor(validation_split * dataset_size))\n",
        "\n",
        "if shuffle_dataset :\n",
        "    np.random.seed(random_seed)\n",
        "    np.random.shuffle(indices)\n",
        "\n",
        "train_indices, val_indices = indices[split:], indices[:split]"
      ],
      "metadata": {
        "trusted": true,
        "id": "zjmuzfWc3VUI"
      },
      "execution_count": null,
      "outputs": []
    },
    {
      "cell_type": "code",
      "source": [
        "train_sampler = SubsetRandomSampler(train_indices)\n",
        "valid_sampler = SubsetRandomSampler(val_indices)"
      ],
      "metadata": {
        "trusted": true,
        "id": "W5QRHwKz3VUN"
      },
      "execution_count": null,
      "outputs": []
    },
    {
      "cell_type": "code",
      "source": [
        "train_loader = torch.utils.data.DataLoader(train_data, batch_size=BATCH_SIZE,\n",
        "                                             sampler=train_sampler)\n",
        "\n",
        "valid_loader = torch.utils.data.DataLoader(train_data, batch_size=BATCH_SIZE,\n",
        "                                             sampler=valid_sampler)\n",
        "\n",
        "test_loader = torch.utils.data.DataLoader(test_data, batch_size=BATCH_SIZE)"
      ],
      "metadata": {
        "trusted": true,
        "id": "1UjW3apH3VUO"
      },
      "execution_count": null,
      "outputs": []
    },
    {
      "cell_type": "code",
      "source": [
        "def test(model, data_loader):\n",
        "    \"\"\"Measures the accuracy of a model on a data set.\"\"\" \n",
        "    # Make sure the model is in evaluation mode.\n",
        "    model.eval()\n",
        "    # We do not need to maintain intermediate activations while testing.\n",
        "    accs = []\n",
        "    with torch.no_grad():\n",
        "        \n",
        "        # Loop over test data.\n",
        "        for features, target in data_loader:\n",
        "          \n",
        "            # Forward pass.\n",
        "            output = model(features.to(device))\n",
        "            \n",
        "            # Get the label corresponding to the highest predicted probability.\n",
        "            pred = output.argmax(dim=1, keepdim=True)\n",
        "            \n",
        "            # Count number of correct predictions.\n",
        "            correct = pred.cpu().eq(target.view_as(pred)).sum().item()\n",
        "            total = pred.shape[0]\n",
        "            accs.append(correct/total)\n",
        "\n",
        "    # Print test accuracy.\n",
        "    percent = 100. * np.mean(accs)\n",
        "    st = np.std(accs)\n",
        "    return percent, st\n",
        "\n",
        "def train(model, criterion, data_loader, test_data_loader, optimizer, num_epochs, filename):\n",
        "    \"\"\"Simple training loop for a PyTorch model.\"\"\" \n",
        "    \n",
        "    # Make sure model is in training mode.\n",
        "    model.train()\n",
        "    \n",
        "    # Move model to the device (CPU or GPU).\n",
        "    model.to(device)\n",
        "    \n",
        "    # Exponential moving average of the loss.\n",
        "    ema_loss = None\n",
        "    \n",
        "    best_acc = 0\n",
        "\n",
        "    print('----- Training Loop -----')\n",
        "    # Loop over epochs.\n",
        "    for epoch in range(num_epochs):\n",
        "        \n",
        "        # Loop over data.\n",
        "        for batch_idx, (features, target) in enumerate(data_loader):\n",
        "\n",
        "            # Forward pass.\n",
        "            output = model(features.to(device))\n",
        "            loss = criterion(output.to(device), target.to(device))\n",
        "\n",
        "            # Backward pass.\n",
        "            optimizer.zero_grad()\n",
        "            loss.backward()\n",
        "            optimizer.step()\n",
        "\n",
        "            # NOTE: It is important to call .item() on the loss before summing.\n",
        "            if ema_loss is None:\n",
        "                ema_loss = loss.item()\n",
        "            else:\n",
        "                ema_loss += (loss.item() - ema_loss) * 0.01 \n",
        "\n",
        "        # Print out progress the end of epoch.\n",
        "        print('----- Model Evaluation -----')\n",
        "        print('Epoch: {}/{} \\tTrain Loss: {:.6f}'.format(epoch+1,num_epochs, ema_loss))\n",
        "        train_a, train_st = test(model,data_loader)\n",
        "        test_a, test_st = test(model,test_data_loader)\n",
        "        print(f'Train accuracy: ({train_a:.2f}%) with std:({train_st:.2f})')\n",
        "        print(f'Test accuracy: ({test_a:.2f}%) with std:({test_st:.2f})')\n",
        "        if test_a > best_acc:\n",
        "            best_acc = test_a\n",
        "            torch.save(model.state_dict(), filename+\".pth\")\n",
        "            \n",
        "    checkpoint = torch.load(filename+\".pth\")\n",
        "    model.load_state_dict(checkpoint)\n",
        "    print(\"------\")\n",
        "    test_a, test_st = test(model,test_data_loader)\n",
        "    print(f'Final test accuracy: ({test_a:.2f}%) with std:({test_st:.2f})')\n",
        "    \n",
        "    return model\n",
        "    \n",
        "\n",
        "def generate_predictions(model,data_loader):\n",
        "    model.eval()\n",
        "    preds=[]\n",
        "    idx=[]\n",
        "\n",
        "    print('----- MAKING PREDICTIONS -----')\n",
        "    # We do not need to maintain intermediate activations while testing.\n",
        "    with torch.no_grad():\n",
        "        \n",
        "        # Loop over test data.\n",
        "        for features, indices in data_loader:\n",
        "            \n",
        "            # Forward pass.\n",
        "            output = model(features.to(device))\n",
        "            \n",
        "            # Get the label corresponding to the highest predicted probability.\n",
        "            pred = output.argmax(dim=1, keepdim=True)\n",
        "            for p,ind in zip(pred,indices):\n",
        "                idx.append(ind)\n",
        "                preds.append(p.item())\n",
        "\n",
        "    return preds,idx\n",
        "\n",
        "def map_to_classes(n):\n",
        "    return train_data.classes[n]"
      ],
      "metadata": {
        "trusted": true,
        "id": "RyBAgK203VUP"
      },
      "execution_count": null,
      "outputs": []
    },
    {
      "cell_type": "code",
      "source": [
        "def get_resnext(model_name):\n",
        "    model = pretrainedmodels.__dict__[model_name](num_classes=1000, pretrained='imagenet')\n",
        "    model.avg_pool = nn.AdaptiveAvgPool2d(output_size=(1, 1))\n",
        "    model.last_linear = nn.Linear(in_features=2048, out_features=5, bias=True)\n",
        "\n",
        "    criterion = torch.nn.CrossEntropyLoss()\n",
        "    optimizer = AdamHD(model.parameters(), lr=1e-4, hypergrad_lr=1e-9)\n",
        "\n",
        "    return model, criterion, optimizer\n",
        "\n",
        "def get_eff_net(model_name, dim=1792):\n",
        "    model = EfficientNet.from_pretrained(model_name)\n",
        "    model._fc = nn.Linear(in_features=dim, out_features=5, bias=True)\n",
        "    \n",
        "    criterion = torch.nn.CrossEntropyLoss()\n",
        "    optimizer = AdamHD(model.parameters(), lr=1e-4, hypergrad_lr=1e-9)\n",
        "    \n",
        "    return model, criterion, optimizer"
      ],
      "metadata": {
        "trusted": true,
        "id": "dIzwTcm53VUj"
      },
      "execution_count": null,
      "outputs": []
    },
    {
      "cell_type": "code",
      "source": [
        "preds = []"
      ],
      "metadata": {
        "trusted": true,
        "id": "r7iFTLPn3VUk"
      },
      "execution_count": null,
      "outputs": []
    },
    {
      "cell_type": "code",
      "source": [
        "model1, criterion, optimizer = get_resnext(MODEL_NAME1)\n",
        "\n",
        "model1 = train(model1, criterion, train_loader, valid_loader, optimizer, num_epochs=NUM_EPOCHS1, filename=\"resnext\")\n",
        "\n",
        "tta_model = tta.ClassificationTTAWrapper(model1, tta.aliases.five_crop_transform(DIM_TEST_2,DIM_TEST_2))\n",
        "predictions, _ = generate_predictions(tta_model,test_loader)\n",
        "preds.append(predictions)"
      ],
      "metadata": {
        "trusted": true,
        "colab": {
          "base_uri": "https://localhost:8080/",
          "height": 185,
          "referenced_widgets": [
            "c979c94360914423b50868cd13e1290e",
            "e819c656948a4114990fa3f3cffe8420",
            "b143b4c8d82d49578b79648bb80aee7f",
            "3baeb822efc64169bb6ceeb088de03dd",
            "09bef35792314e4c836196dd2b026b77",
            "842cd462bb0544a79b147d17ead7f6eb",
            "644d5cd2ecb04c7e926cb640368a8be1",
            "c19a4e3b4ba54faaac4d6a9e451ed1cc",
            "4f95dd33625b40a49a8367ee7f1d86f5",
            "a54e646aeaea472e9af7b43954764d57",
            "a6d6d8a9a46f4ae39e0b7eb37700f72c"
          ]
        },
        "id": "BDU-pAs23VUk",
        "outputId": "8cf805f8-9cd9-400b-fa5b-3deabf7b1539"
      },
      "execution_count": null,
      "outputs": [
        {
          "output_type": "stream",
          "name": "stderr",
          "text": [
            "Downloading: \"http://data.lip6.fr/cadene/pretrainedmodels/se_resnext101_32x4d-3b2fe3d8.pth\" to /root/.cache/torch/hub/checkpoints/se_resnext101_32x4d-3b2fe3d8.pth\n"
          ]
        },
        {
          "output_type": "display_data",
          "data": {
            "text/plain": [
              "  0%|          | 0.00/187M [00:00<?, ?B/s]"
            ],
            "application/vnd.jupyter.widget-view+json": {
              "version_major": 2,
              "version_minor": 0,
              "model_id": "c979c94360914423b50868cd13e1290e"
            }
          },
          "metadata": {}
        },
        {
          "output_type": "stream",
          "name": "stdout",
          "text": [
            "----- Training Loop -----\n"
          ]
        },
        {
          "output_type": "stream",
          "name": "stderr",
          "text": [
            "/usr/local/lib/python3.7/dist-packages/hypergrad/adam_hd.py:82: UserWarning: This overload of add_ is deprecated:\n",
            "\tadd_(Number alpha, Tensor other)\n",
            "Consider using one of the following signatures instead:\n",
            "\tadd_(Tensor other, *, Number alpha) (Triggered internally at  ../torch/csrc/utils/python_arg_parser.cpp:1050.)\n",
            "  exp_avg.mul_(beta1).add_(1 - beta1, grad)\n"
          ]
        }
      ]
    },
    {
      "cell_type": "code",
      "source": [
        "final_predictions = np.mean(preds,axis=0)\n",
        "final_predictions.shape"
      ],
      "metadata": {
        "trusted": true,
        "id": "WPE1xIdQ3VUk"
      },
      "execution_count": null,
      "outputs": []
    },
    {
      "cell_type": "code",
      "source": [
        "ss = pd.DataFrame({\n",
        "    \"Category\": final_predictions,\n",
        "    \"Id\": test_data.indices\n",
        "})\n",
        "ss.head()"
      ],
      "metadata": {
        "trusted": true,
        "id": "WEzoifgT3VUq"
      },
      "execution_count": null,
      "outputs": []
    },
    {
      "cell_type": "code",
      "source": [
        "ss[\"Category\"] = predictions\n",
        "ss[\"Category\"] = ss[\"Category\"].apply(map_to_classes)\n",
        "ss.head()"
      ],
      "metadata": {
        "trusted": true,
        "id": "cQIHvcED3VUq"
      },
      "execution_count": null,
      "outputs": []
    },
    {
      "cell_type": "code",
      "source": [
        "ss.to_csv(NAME+\".csv\",index=False)"
      ],
      "metadata": {
        "trusted": true,
        "id": "V5-UGsSX3VUr"
      },
      "execution_count": null,
      "outputs": []
    },
    {
      "cell_type": "code",
      "source": [
        ""
      ],
      "metadata": {
        "id": "0B2LilYB3VUt"
      },
      "execution_count": null,
      "outputs": []
    }
  ]
}
